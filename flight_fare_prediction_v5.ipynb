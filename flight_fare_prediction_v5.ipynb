{
  "cells": [
    {
      "cell_type": "markdown",
      "metadata": {
        "id": "602ba509"
      },
      "source": [
        "## Getting Started\n",
        "\n",
        "This project is my implementation of a kaggle competition:\n",
        "[https:www.kaggle.com/c/air-ticket-fare-prediction]\n",
        "\n",
        "Sadly, now the competition is **exclusive to invited users by kaggle**,\n",
        "but you can download the dataset from kaggle datasets.\n",
        "\n",
        "I decided to solve this problem as a proof of understanding Machine Learning workflow and Regression techniques in specific.\n",
        "\n",
        "Kaggle Evaluation metric for predictor : Root Mean Squared Error "
      ],
      "id": "602ba509"
    },
    {
      "cell_type": "code",
      "execution_count": 2,
      "metadata": {
        "colab": {
          "base_uri": "https://localhost:8080/"
        },
        "id": "qEm5vcPmca2w",
        "outputId": "d6c8deb1-d27f-4412-c156-e122f52a82f1"
      },
      "outputs": [
        {
          "output_type": "stream",
          "name": "stdout",
          "text": [
            "Mounted at /content/drive\n"
          ]
        }
      ],
      "source": [
        "from google.colab import drive\n",
        "drive.mount('/content/drive')"
      ],
      "id": "qEm5vcPmca2w"
    },
    {
      "cell_type": "code",
      "execution_count": 3,
      "metadata": {
        "id": "6384121c"
      },
      "outputs": [],
      "source": [
        "# Import necessary libararies\n",
        "import numpy as np \n",
        "import pandas as pd\n",
        "import matplotlib.pyplot as plt\n",
        "import seaborn as sns\n",
        "import os\n",
        "\n",
        "%matplotlib inline\n",
        "sns.set_style('whitegrid')"
      ],
      "id": "6384121c"
    },
    {
      "cell_type": "code",
      "source": [
        "# Sklearn Imports\n",
        "from sklearn.preprocessing import OneHotEncoder, LabelEncoder\n",
        "from sklearn import tree\n",
        "from sklearn.ensemble import RandomForestRegressor\n",
        "from sklearn.ensemble import GradientBoostingRegressor\n",
        "from sklearn.model_selection import RandomizedSearchCV\n",
        "from sklearn.model_selection import train_test_split\n",
        "from sklearn import metrics"
      ],
      "metadata": {
        "id": "NHVUl03LSxJq"
      },
      "id": "NHVUl03LSxJq",
      "execution_count": 4,
      "outputs": []
    },
    {
      "cell_type": "code",
      "execution_count": 5,
      "metadata": {
        "colab": {
          "base_uri": "https://localhost:8080/"
        },
        "id": "d382d2d4",
        "outputId": "0b6c6999-788a-4025-a19a-f38835157061"
      },
      "outputs": [
        {
          "output_type": "stream",
          "name": "stdout",
          "text": [
            "/content\n"
          ]
        }
      ],
      "source": [
        "# check current working directory\n",
        "print(os.getcwd())\n",
        "# change working directory (r convert string to raw string)\n",
        "os.chdir('/content/drive/MyDrive/Colab Notebooks/flight_fare_dataset')"
      ],
      "id": "d382d2d4"
    },
    {
      "cell_type": "code",
      "execution_count": 6,
      "metadata": {
        "id": "80086c7b"
      },
      "outputs": [],
      "source": [
        "# Load training and testing data\n",
        "train_data = pd.read_excel('/content/drive/MyDrive/Colab Notebooks/flight_fare_dataset/Data_Train.xlsx')\n",
        "test_data = pd.read_excel('/content/drive/MyDrive/Colab Notebooks/flight_fare_dataset/Test_set.xlsx')"
      ],
      "id": "80086c7b"
    },
    {
      "cell_type": "markdown",
      "metadata": {
        "id": "llt4L7vVaOgI"
      },
      "source": [
        "## EDA"
      ],
      "id": "llt4L7vVaOgI"
    },
    {
      "cell_type": "code",
      "execution_count": 7,
      "metadata": {
        "id": "YPzSFb3_aaDt"
      },
      "outputs": [],
      "source": [
        "# Train of Thoughts\n",
        "# Take a look at training and testing data --> .head()\n",
        "# check columns and their dtypes --> .info()\n",
        "# check null counts in both sets --> .isna().sum()\n",
        "# Remove nulls or Impute them?\n",
        "# Histograms for numerical variables --> normal distribution or skewed\n",
        "# If so, need scaling or not ? --> depends on type of regressor we use.\n",
        "# Bar charts for categorical variables\n",
        "# relationships between features and price.\n",
        "# Insights from EDA ..."
      ],
      "id": "YPzSFb3_aaDt"
    },
    {
      "cell_type": "code",
      "execution_count": 8,
      "metadata": {
        "colab": {
          "base_uri": "https://localhost:8080/"
        },
        "id": "4836e129",
        "outputId": "307e0d7c-7a30-4c29-c236-2ae17ab2467f"
      },
      "outputs": [
        {
          "output_type": "stream",
          "name": "stdout",
          "text": [
            "       Airline Date_of_Journey    Source Destination                  Route  \\\n",
            "0       IndiGo      24/03/2019  Banglore   New Delhi              BLR → DEL   \n",
            "1    Air India       1/05/2019   Kolkata    Banglore  CCU → IXR → BBI → BLR   \n",
            "2  Jet Airways       9/06/2019     Delhi      Cochin  DEL → LKO → BOM → COK   \n",
            "3       IndiGo      12/05/2019   Kolkata    Banglore        CCU → NAG → BLR   \n",
            "4       IndiGo      01/03/2019  Banglore   New Delhi        BLR → NAG → DEL   \n",
            "\n",
            "  Dep_Time  Arrival_Time Duration Total_Stops Additional_Info  Price  \n",
            "0    22:20  01:10 22 Mar   2h 50m    non-stop         No info   3897  \n",
            "1    05:50         13:15   7h 25m     2 stops         No info   7662  \n",
            "2    09:25  04:25 10 Jun      19h     2 stops         No info  13882  \n",
            "3    18:05         23:30   5h 25m      1 stop         No info   6218  \n",
            "4    16:50         21:35   4h 45m      1 stop         No info  13302  \n",
            "--------------------------------------------------------------------------------\n",
            "             Airline Date_of_Journey    Source Destination            Route  \\\n",
            "0        Jet Airways       6/06/2019     Delhi      Cochin  DEL → BOM → COK   \n",
            "1             IndiGo      12/05/2019   Kolkata    Banglore  CCU → MAA → BLR   \n",
            "2        Jet Airways      21/05/2019     Delhi      Cochin  DEL → BOM → COK   \n",
            "3  Multiple carriers      21/05/2019     Delhi      Cochin  DEL → BOM → COK   \n",
            "4           Air Asia      24/06/2019  Banglore       Delhi        BLR → DEL   \n",
            "\n",
            "  Dep_Time  Arrival_Time Duration Total_Stops              Additional_Info  \n",
            "0    17:30  04:25 07 Jun  10h 55m      1 stop                      No info  \n",
            "1    06:20         10:20       4h      1 stop                      No info  \n",
            "2    19:15  19:00 22 May  23h 45m      1 stop  In-flight meal not included  \n",
            "3    08:00         21:00      13h      1 stop                      No info  \n",
            "4    23:55  02:45 25 Jun   2h 50m    non-stop                      No info  \n"
          ]
        }
      ],
      "source": [
        "# Take a look at the data\n",
        "print(train_data.head())\n",
        "print('-' * 80)\n",
        "print(test_data.head())"
      ],
      "id": "4836e129"
    },
    {
      "cell_type": "code",
      "execution_count": 9,
      "metadata": {
        "colab": {
          "base_uri": "https://localhost:8080/"
        },
        "id": "a8d7fa2f",
        "outputId": "b520429c-6cd6-4d1e-f924-f02766ddc175"
      },
      "outputs": [
        {
          "output_type": "stream",
          "name": "stdout",
          "text": [
            "<class 'pandas.core.frame.DataFrame'>\n",
            "RangeIndex: 10683 entries, 0 to 10682\n",
            "Data columns (total 11 columns):\n",
            " #   Column           Non-Null Count  Dtype \n",
            "---  ------           --------------  ----- \n",
            " 0   Airline          10683 non-null  object\n",
            " 1   Date_of_Journey  10683 non-null  object\n",
            " 2   Source           10683 non-null  object\n",
            " 3   Destination      10683 non-null  object\n",
            " 4   Route            10682 non-null  object\n",
            " 5   Dep_Time         10683 non-null  object\n",
            " 6   Arrival_Time     10683 non-null  object\n",
            " 7   Duration         10683 non-null  object\n",
            " 8   Total_Stops      10682 non-null  object\n",
            " 9   Additional_Info  10683 non-null  object\n",
            " 10  Price            10683 non-null  int64 \n",
            "dtypes: int64(1), object(10)\n",
            "memory usage: 918.2+ KB\n",
            "None\n",
            "---------------------------------------------\n",
            "<class 'pandas.core.frame.DataFrame'>\n",
            "RangeIndex: 2671 entries, 0 to 2670\n",
            "Data columns (total 10 columns):\n",
            " #   Column           Non-Null Count  Dtype \n",
            "---  ------           --------------  ----- \n",
            " 0   Airline          2671 non-null   object\n",
            " 1   Date_of_Journey  2671 non-null   object\n",
            " 2   Source           2671 non-null   object\n",
            " 3   Destination      2671 non-null   object\n",
            " 4   Route            2671 non-null   object\n",
            " 5   Dep_Time         2671 non-null   object\n",
            " 6   Arrival_Time     2671 non-null   object\n",
            " 7   Duration         2671 non-null   object\n",
            " 8   Total_Stops      2671 non-null   object\n",
            " 9   Additional_Info  2671 non-null   object\n",
            "dtypes: object(10)\n",
            "memory usage: 208.8+ KB\n",
            "None\n"
          ]
        }
      ],
      "source": [
        "# check data types and number of entries\n",
        "print(train_data.info())\n",
        "print('-' * 45)\n",
        "print(test_data.info())"
      ],
      "id": "a8d7fa2f"
    },
    {
      "cell_type": "code",
      "source": [
        "train_data.Airline.value_counts().index"
      ],
      "metadata": {
        "colab": {
          "base_uri": "https://localhost:8080/"
        },
        "id": "La_ThJJSt58t",
        "outputId": "8074f3bc-af70-4911-9989-076c8e02e572"
      },
      "id": "La_ThJJSt58t",
      "execution_count": 10,
      "outputs": [
        {
          "output_type": "execute_result",
          "data": {
            "text/plain": [
              "Index(['Jet Airways', 'IndiGo', 'Air India', 'Multiple carriers', 'SpiceJet',\n",
              "       'Vistara', 'Air Asia', 'GoAir', 'Multiple carriers Premium economy',\n",
              "       'Jet Airways Business', 'Vistara Premium economy', 'Trujet'],\n",
              "      dtype='object')"
            ]
          },
          "metadata": {},
          "execution_count": 10
        }
      ]
    },
    {
      "cell_type": "code",
      "execution_count": 11,
      "metadata": {
        "colab": {
          "base_uri": "https://localhost:8080/"
        },
        "id": "194db726",
        "outputId": "33424b05-68b7-4fb8-da21-558a19a4b088"
      },
      "outputs": [
        {
          "output_type": "stream",
          "name": "stdout",
          "text": [
            "Airline            0\n",
            "Date_of_Journey    0\n",
            "Source             0\n",
            "Destination        0\n",
            "Route              1\n",
            "Dep_Time           0\n",
            "Arrival_Time       0\n",
            "Duration           0\n",
            "Total_Stops        1\n",
            "Additional_Info    0\n",
            "Price              0\n",
            "dtype: int64\n",
            "--------------------\n",
            "Airline            0\n",
            "Date_of_Journey    0\n",
            "Source             0\n",
            "Destination        0\n",
            "Route              0\n",
            "Dep_Time           0\n",
            "Arrival_Time       0\n",
            "Duration           0\n",
            "Total_Stops        0\n",
            "Additional_Info    0\n",
            "dtype: int64\n"
          ]
        }
      ],
      "source": [
        "# check null values count\n",
        "print(train_data.isna().sum())\n",
        "print('-' *20)\n",
        "print(test_data.isna().sum())"
      ],
      "id": "194db726"
    },
    {
      "cell_type": "code",
      "execution_count": 12,
      "metadata": {
        "colab": {
          "base_uri": "https://localhost:8080/"
        },
        "id": "f7248b54",
        "outputId": "993f9a10-a49e-45fc-9626-dfea2a0dc8af"
      },
      "outputs": [
        {
          "output_type": "execute_result",
          "data": {
            "text/plain": [
              "Airline            0\n",
              "Date_of_Journey    0\n",
              "Source             0\n",
              "Destination        0\n",
              "Route              0\n",
              "Dep_Time           0\n",
              "Arrival_Time       0\n",
              "Duration           0\n",
              "Total_Stops        0\n",
              "Additional_Info    0\n",
              "Price              0\n",
              "dtype: int64"
            ]
          },
          "metadata": {},
          "execution_count": 12
        }
      ],
      "source": [
        "# only 2 nulls from training data, drop them.\n",
        "train_data.dropna(inplace = True)\n",
        "train_data.isna().sum()"
      ],
      "id": "f7248b54"
    },
    {
      "cell_type": "code",
      "execution_count": 13,
      "metadata": {
        "colab": {
          "base_uri": "https://localhost:8080/",
          "height": 714
        },
        "id": "Qqa-1wRqpDVO",
        "outputId": "706aabc9-ec8e-4c6c-9ac2-8f9b222ca0f9"
      },
      "outputs": [
        {
          "output_type": "display_data",
          "data": {
            "text/plain": [
              "<Figure size 864x864 with 6 Axes>"
            ],
            "image/png": "[encoded data removed]"
          },
          "metadata": {}
        }
      ],
      "source": [
        "# Visualizing our features\n",
        "fig, axs = plt.subplots(3 , 2, figsize = (12, 12))\n",
        "plt.subplots_adjust(hspace= 0.7, wspace = 0.7)\n",
        "sns.countplot(y = 'Airline', data = train_data,\n",
        "              order = train_data['Airline'].value_counts().index, ax = axs[0, 0])\n",
        "sns.countplot(y = 'Source', data = train_data,\n",
        "              order = train_data['Source'].value_counts().index, ax = axs[0, 1])\n",
        "sns.countplot(y = 'Destination', data = train_data,\n",
        "              order = train_data['Destination'].value_counts().index, ax = axs[1, 0])\n",
        "sns.countplot(x = 'Total_Stops', data = train_data,\n",
        "              order = train_data['Total_Stops'].value_counts().index, ax = axs[1, 1])\n",
        "sns.countplot(y = 'Route', data = train_data,\n",
        "              order = train_data['Route'].value_counts().head(10).index, ax = axs[2, 0])\n",
        "\n",
        "# Hide the unused axes\n",
        "axs[2, 1].set_visible(False)\n",
        "plt.show()"
      ],
      "id": "Qqa-1wRqpDVO"
    },
    {
      "cell_type": "code",
      "execution_count": 14,
      "metadata": {
        "colab": {
          "base_uri": "https://localhost:8080/",
          "height": 370
        },
        "id": "8OInPcIr8g6N",
        "outputId": "12d4e6bb-4195-4f9a-fee8-87a56c10386c"
      },
      "outputs": [
        {
          "output_type": "display_data",
          "data": {
            "text/plain": [
              "<Figure size 720x360 with 2 Axes>"
            ],
            "image/png": "[encoded data removed]"
          },
          "metadata": {}
        }
      ],
      "source": [
        "# 6) Finally, distribution of target (Price)\n",
        "fig, ax = plt.subplots(1, 2, figsize = (10, 5))\n",
        "sns.histplot(x = 'Price', data = train_data, color = 'green', ax = ax[0])\n",
        "sns.boxplot(y = 'Price', data = train_data, ax = ax[1])\n",
        "fig.suptitle('Price Distribution')\n",
        "plt.show()"
      ],
      "id": "8OInPcIr8g6N"
    },
    {
      "cell_type": "markdown",
      "source": [
        "### Relationships between Features and Price"
      ],
      "metadata": {
        "id": "peRsc4lF2BVR"
      },
      "id": "peRsc4lF2BVR"
    },
    {
      "cell_type": "code",
      "source": [
        "train_data['Airline'].value_counts()"
      ],
      "metadata": {
        "colab": {
          "base_uri": "https://localhost:8080/"
        },
        "id": "w7UCXawH6GFc",
        "outputId": "53aed372-5547-49ac-832f-decb26aba8f8"
      },
      "id": "w7UCXawH6GFc",
      "execution_count": 15,
      "outputs": [
        {
          "output_type": "execute_result",
          "data": {
            "text/plain": [
              "Jet Airways                          3849\n",
              "IndiGo                               2053\n",
              "Air India                            1751\n",
              "Multiple carriers                    1196\n",
              "SpiceJet                              818\n",
              "Vistara                               479\n",
              "Air Asia                              319\n",
              "GoAir                                 194\n",
              "Multiple carriers Premium economy      13\n",
              "Jet Airways Business                    6\n",
              "Vistara Premium economy                 3\n",
              "Trujet                                  1\n",
              "Name: Airline, dtype: int64"
            ]
          },
          "metadata": {},
          "execution_count": 15
        }
      ]
    },
    {
      "cell_type": "code",
      "source": [
        "# 1) 'Price' vs. 'Airline'\n",
        "plt.figure(figsize=(10, 5))\n",
        "sns.boxplot(x = 'Airline', y = 'Price', data = train_data.sort_values(by = 'Price', ascending = False))\n",
        "plt.xticks(rotation=90)\n",
        "plt.show()\n",
        "# All Airlines have similar means, medians, and modes except for JetAir Ways Business.\n",
        "# It's shows as outliers in price (> 40k$):\n",
        "# Jet Airways Business has only 6 values."
      ],
      "metadata": {
        "colab": {
          "base_uri": "https://localhost:8080/",
          "height": 501
        },
        "id": "Po37lNla0r_A",
        "outputId": "fc36aedd-0bc5-4454-859a-a44d9db2fcb2"
      },
      "id": "Po37lNla0r_A",
      "execution_count": 16,
      "outputs": [
        {
          "output_type": "display_data",
          "data": {
            "text/plain": [
              "<Figure size 720x360 with 1 Axes>"
            ],
            "image/png": "[encoded data removed]"
          },
          "metadata": {}
        }
      ]
    },
    {
      "cell_type": "code",
      "source": [
        "# Jet Airways Business has 6 values, they appear as outliers in price.\n",
        "train_data['Airline'].value_counts()"
      ],
      "metadata": {
        "colab": {
          "base_uri": "https://localhost:8080/"
        },
        "id": "Kowi0pJs1waJ",
        "outputId": "6156ca24-04af-44ec-d72c-cf74cd6610b8"
      },
      "id": "Kowi0pJs1waJ",
      "execution_count": 17,
      "outputs": [
        {
          "output_type": "execute_result",
          "data": {
            "text/plain": [
              "Jet Airways                          3849\n",
              "IndiGo                               2053\n",
              "Air India                            1751\n",
              "Multiple carriers                    1196\n",
              "SpiceJet                              818\n",
              "Vistara                               479\n",
              "Air Asia                              319\n",
              "GoAir                                 194\n",
              "Multiple carriers Premium economy      13\n",
              "Jet Airways Business                    6\n",
              "Vistara Premium economy                 3\n",
              "Trujet                                  1\n",
              "Name: Airline, dtype: int64"
            ]
          },
          "metadata": {},
          "execution_count": 17
        }
      ]
    },
    {
      "cell_type": "code",
      "source": [
        "# 2) 'Price' vs. 'Source'\n",
        "plt.figure(figsize=(10, 5))\n",
        "sns.boxplot(x = 'Source', y = 'Price', data = train_data.sort_values(by = 'Price', ascending = False))\n",
        "plt.xticks(rotation=90)\n",
        "plt.show()"
      ],
      "metadata": {
        "colab": {
          "base_uri": "https://localhost:8080/",
          "height": 368
        },
        "id": "UVh4bg2u2QeE",
        "outputId": "8609414e-336d-483c-b36f-f810e67c7900"
      },
      "id": "UVh4bg2u2QeE",
      "execution_count": 18,
      "outputs": [
        {
          "output_type": "display_data",
          "data": {
            "text/plain": [
              "<Figure size 720x360 with 1 Axes>"
            ],
            "image/png": "[encoded data removed]"
          },
          "metadata": {}
        }
      ]
    },
    {
      "cell_type": "code",
      "source": [
        "# Price vs. Total_Stops visualization\n",
        "plt.figure(figsize=(10, 5))\n",
        "categories_order = ['non-stop', '1 stop', '2 stops', '3 stops', '4 stops']\n",
        "sns.barplot(x = 'Total_Stops', y = 'Price', data = train_data.sort_values(by = 'Price', ascending = False),\n",
        "           order = categories_order)\n",
        "plt.xticks(rotation=90)\n",
        "plt.show()"
      ],
      "metadata": {
        "colab": {
          "base_uri": "https://localhost:8080/",
          "height": 368
        },
        "id": "qAzSWiQzT5Ue",
        "outputId": "26750f0d-5971-49f5-dccb-f5ec14307156"
      },
      "id": "qAzSWiQzT5Ue",
      "execution_count": 19,
      "outputs": [
        {
          "output_type": "display_data",
          "data": {
            "text/plain": [
              "<Figure size 720x360 with 1 Axes>"
            ],
            "image/png": "[encoded data removed]"
          },
          "metadata": {}
        }
      ]
    },
    {
      "cell_type": "markdown",
      "metadata": {
        "id": "Rd7qHWQuAUsV"
      },
      "source": [
        "### EDA Summary:\n",
        "\n",
        "\n",
        "\n",
        "1.   Jet Airways is the most preferred airline, followed by Indigo, and AirIndia.\n",
        "\n",
        "2.   Majority of the flights take off from Delhi.Chennai has the minimum count of flight take-offs.\n",
        "\n",
        "3.   Maximum flights land in Cochin.Kolkata has the lowest count of receiving the flights.\n",
        "\n",
        "4.   Majority of the flights have stops as 1, flights with 3 and 4 stops are quite low.\n",
        "\n",
        "\n",
        "5. The following columns can be dropped as they are of no use,\n",
        "you will see why in the next section:\n",
        "    \n",
        "    ['year', 'Additional_Info', 'Route']\n",
        "\n",
        "6. Price Column has Outliers, but I'll only consider the extremes which are above (40k$).\n",
        "\n",
        "7. 'Price' goes up as 'Total_Stops' increase, this implies that Total_Stops is an ordinal variable."
      ],
      "id": "Rd7qHWQuAUsV"
    },
    {
      "cell_type": "markdown",
      "metadata": {
        "id": "6ef26c3a"
      },
      "source": [
        "## Data Preprocessing "
      ],
      "id": "6ef26c3a"
    },
    {
      "cell_type": "markdown",
      "source": [
        "### Outliers Detection\n",
        "\n",
        "Detecting outliers in the data is extremely important in the data preprocessing step of any analysis. The presence of outliers can often skew results which take into consideration these data points.\n",
        "\n",
        "We'll impute these outliers with median."
      ],
      "metadata": {
        "id": "tMmBesLG3miz"
      },
      "id": "tMmBesLG3miz"
    },
    {
      "cell_type": "code",
      "source": [
        "# Replace outliers with median value\n",
        "train_data['Price'] = np.where(train_data['Price'] > 40000, train_data['Price'].median(), train_data['Price'])"
      ],
      "metadata": {
        "id": "aZLX1HmU3Se8"
      },
      "id": "aZLX1HmU3Se8",
      "execution_count": 20,
      "outputs": []
    },
    {
      "cell_type": "code",
      "source": [
        "# Visualize Price after imputing outliers\n",
        "fig, ax = plt.subplots(1, 2, figsize = (10, 5))\n",
        "sns.histplot(x = 'Price', data = train_data, color = 'green', ax = ax[0])\n",
        "sns.boxplot(y = 'Price', data = train_data, ax = ax[1])\n",
        "# Set max_y limit to 70000\n",
        "ax[1].set_ylim([0, 70000])\n",
        "fig.suptitle('Price Distribution')\n",
        "plt.show()"
      ],
      "metadata": {
        "colab": {
          "base_uri": "https://localhost:8080/",
          "height": 370
        },
        "id": "qTO3mCtHMIIG",
        "outputId": "9bac2221-4d9d-493d-c610-3d9d1bd34f12"
      },
      "id": "qTO3mCtHMIIG",
      "execution_count": 21,
      "outputs": [
        {
          "output_type": "display_data",
          "data": {
            "text/plain": [
              "<Figure size 720x360 with 2 Axes>"
            ],
            "image/png": "[encoded data removed]"
          },
          "metadata": {}
        }
      ]
    },
    {
      "cell_type": "markdown",
      "source": [
        "### 1) Training Data \n",
        "\n",
        "From .info(), We can see that all columns dtypes are **object**.\n",
        "\n",
        "So lets start converting columns with date or time data to **datetime** in order to work properly with them.\n",
        "\n",
        "Lets start with **'Journey_Date'** column and tackle them one by one."
      ],
      "metadata": {
        "id": "ZOEM9BIQ268f"
      },
      "id": "ZOEM9BIQ268f"
    },
    {
      "cell_type": "code",
      "execution_count": 22,
      "metadata": {
        "id": "d1aa81ea"
      },
      "outputs": [],
      "source": [
        "# .dt.day to extract day of journey\n",
        "train_data['Journey_day'] = pd.to_datetime(train_data.Date_of_Journey, format='%d/%m/%Y').dt.day\n",
        "train_data['Journey_month'] = pd.to_datetime(train_data.Date_of_Journey, format='%d/%m/%Y').dt.month\n",
        "# There is no need to create 'Journey_year' because there is no jounrneys outside of 2019."
      ],
      "id": "d1aa81ea"
    },
    {
      "cell_type": "code",
      "execution_count": 23,
      "metadata": {
        "id": "43752408"
      },
      "outputs": [],
      "source": [
        "# Since we have converted 'Date_of_Journey' column into integers, we can drop it as it's of no use.\n",
        "train_data.drop('Date_of_Journey', axis = 1, inplace = True)"
      ],
      "id": "43752408"
    },
    {
      "cell_type": "code",
      "execution_count": 24,
      "metadata": {
        "id": "42a81841"
      },
      "outputs": [],
      "source": [
        "# 'Dep_Time' is when a plane leaves the gate.\n",
        "# 'Arrival_Time' is when a plane lands.\n",
        "# Similar to 'Date_of_Journey', we can extract hours and minutes from them.\n",
        "\n",
        "# Extracting Hours\n",
        "train_data['Dep_hour'] = pd.to_datetime(train_data.Dep_Time).dt.hour\n",
        "#Extracting Minutes\n",
        "train_data['Dep_min'] = pd.to_datetime(train_data.Dep_Time).dt.minute\n",
        "\n",
        "# Now we can drop 'Dep_Time' as it's of no use.\n",
        "train_data.drop('Dep_Time', axis = 1, inplace = True)"
      ],
      "id": "42a81841"
    },
    {
      "cell_type": "code",
      "execution_count": 25,
      "metadata": {
        "id": "40b1cf6b"
      },
      "outputs": [],
      "source": [
        "# The same is done for 'Arrival_Time'\n",
        "train_data['Arrival_hour'] = pd.to_datetime(train_data.Arrival_Time).dt.hour\n",
        "train_data['Arrival_min'] = pd.to_datetime(train_data.Arrival_Time).dt.minute\n",
        "\n",
        "# Now we can drop 'Arrival_Time' as it's of no use.\n",
        "train_data.drop('Arrival_Time', axis = 1, inplace = True)"
      ],
      "id": "40b1cf6b"
    },
    {
      "cell_type": "code",
      "execution_count": 26,
      "metadata": {
        "id": "593317a2"
      },
      "outputs": [],
      "source": [
        "# 'Duration' is the time taken by plane to reach its Destination\n",
        "# We need to extract hours and minutes from it\n",
        "duration = list(train_data.Duration)\n",
        "\n",
        "for i in range(len(duration)):\n",
        "    if (len(duration[i].split(' ')) != 2): #check if duration is only hours or minutes\n",
        "        if 'h' in duration[i]: # hours only\n",
        "            duration[i] = duration[i] + ' 0m'\n",
        "        else: # minutes only\n",
        "            duration[i] = '0h ' + duration[i]\n",
        "\n",
        "duration_hours = []\n",
        "duration_minutes = []\n",
        "\n",
        "for i in range(len(duration)):\n",
        "    duration_hours.append(int(duration[i].split(sep = 'h')[0]))  # extract only hours\n",
        "    duration_minutes.append(int(duration[i].split(sep ='m')[0].split()[1])) # extract only mintues "
      ],
      "id": "593317a2"
    },
    {
      "cell_type": "code",
      "execution_count": 27,
      "metadata": {
        "id": "17121ed6"
      },
      "outputs": [],
      "source": [
        "# Create new columns for duration hours and minutes\n",
        "train_data['Duration_hour'] = duration_hours\n",
        "train_data['Duration_min'] = duration_minutes\n",
        "# Now we can drop 'Duration' column as it's of no use\n",
        "train_data.drop('Duration', axis = 1, inplace = True)"
      ],
      "id": "17121ed6"
    },
    {
      "cell_type": "code",
      "execution_count": 28,
      "metadata": {
        "colab": {
          "base_uri": "https://localhost:8080/",
          "height": 652
        },
        "id": "f5af732c",
        "outputId": "ae87c52e-a25d-438b-8b7e-0240e39e8f06",
        "scrolled": true
      },
      "outputs": [
        {
          "output_type": "execute_result",
          "data": {
            "text/plain": [
              "       Airline    Source Destination                  Route Total_Stops  \\\n",
              "0       IndiGo  Banglore   New Delhi              BLR → DEL    non-stop   \n",
              "1    Air India   Kolkata    Banglore  CCU → IXR → BBI → BLR     2 stops   \n",
              "2  Jet Airways     Delhi      Cochin  DEL → LKO → BOM → COK     2 stops   \n",
              "3       IndiGo   Kolkata    Banglore        CCU → NAG → BLR      1 stop   \n",
              "4       IndiGo  Banglore   New Delhi        BLR → NAG → DEL      1 stop   \n",
              "\n",
              "  Additional_Info    Price  Journey_day  Journey_month  Dep_hour  Dep_min  \\\n",
              "0         No info   3897.0           24              3        22       20   \n",
              "1         No info   7662.0            1              5         5       50   \n",
              "2         No info  13882.0            9              6         9       25   \n",
              "3         No info   6218.0           12              5        18        5   \n",
              "4         No info  13302.0            1              3        16       50   \n",
              "\n",
              "   Arrival_hour  Arrival_min  Duration_hour  Duration_min  \n",
              "0             1           10              2            50  \n",
              "1            13           15              7            25  \n",
              "2             4           25             19             0  \n",
              "3            23           30              5            25  \n",
              "4            21           35              4            45  "
            ],
            "text/html": [
              "\n",
              "  <div id=\"df-93783c82-bfc7-41d3-a56a-2ebc837b9617\">\n",
              "    <div class=\"colab-df-container\">\n",
              "      <div>\n",
              "<style scoped>\n",
              "    .dataframe tbody tr th:only-of-type {\n",
              "        vertical-align: middle;\n",
              "    }\n",
              "\n",
              "    .dataframe tbody tr th {\n",
              "        vertical-align: top;\n",
              "    }\n",
              "\n",
              "    .dataframe thead th {\n",
              "        text-align: right;\n",
              "    }\n",
              "</style>\n",
              "<table border=\"1\" class=\"dataframe\">\n",
              "  <thead>\n",
              "    <tr style=\"text-align: right;\">\n",
              "      <th></th>\n",
              "      <th>Airline</th>\n",
              "      <th>Source</th>\n",
              "      <th>Destination</th>\n",
              "      <th>Route</th>\n",
              "      <th>Total_Stops</th>\n",
              "      <th>Additional_Info</th>\n",
              "      <th>Price</th>\n",
              "      <th>Journey_day</th>\n",
              "      <th>Journey_month</th>\n",
              "      <th>Dep_hour</th>\n",
              "      <th>Dep_min</th>\n",
              "      <th>Arrival_hour</th>\n",
              "      <th>Arrival_min</th>\n",
              "      <th>Duration_hour</th>\n",
              "      <th>Duration_min</th>\n",
              "    </tr>\n",
              "  </thead>\n",
              "  <tbody>\n",
              "    <tr>\n",
              "      <th>0</th>\n",
              "      <td>IndiGo</td>\n",
              "      <td>Banglore</td>\n",
              "      <td>New Delhi</td>\n",
              "      <td>BLR → DEL</td>\n",
              "      <td>non-stop</td>\n",
              "      <td>No info</td>\n",
              "      <td>3897.0</td>\n",
              "      <td>24</td>\n",
              "      <td>3</td>\n",
              "      <td>22</td>\n",
              "      <td>20</td>\n",
              "      <td>1</td>\n",
              "      <td>10</td>\n",
              "      <td>2</td>\n",
              "      <td>50</td>\n",
              "    </tr>\n",
              "    <tr>\n",
              "      <th>1</th>\n",
              "      <td>Air India</td>\n",
              "      <td>Kolkata</td>\n",
              "      <td>Banglore</td>\n",
              "      <td>CCU → IXR → BBI → BLR</td>\n",
              "      <td>2 stops</td>\n",
              "      <td>No info</td>\n",
              "      <td>7662.0</td>\n",
              "      <td>1</td>\n",
              "      <td>5</td>\n",
              "      <td>5</td>\n",
              "      <td>50</td>\n",
              "      <td>13</td>\n",
              "      <td>15</td>\n",
              "      <td>7</td>\n",
              "      <td>25</td>\n",
              "    </tr>\n",
              "    <tr>\n",
              "      <th>2</th>\n",
              "      <td>Jet Airways</td>\n",
              "      <td>Delhi</td>\n",
              "      <td>Cochin</td>\n",
              "      <td>DEL → LKO → BOM → COK</td>\n",
              "      <td>2 stops</td>\n",
              "      <td>No info</td>\n",
              "      <td>13882.0</td>\n",
              "      <td>9</td>\n",
              "      <td>6</td>\n",
              "      <td>9</td>\n",
              "      <td>25</td>\n",
              "      <td>4</td>\n",
              "      <td>25</td>\n",
              "      <td>19</td>\n",
              "      <td>0</td>\n",
              "    </tr>\n",
              "    <tr>\n",
              "      <th>3</th>\n",
              "      <td>IndiGo</td>\n",
              "      <td>Kolkata</td>\n",
              "      <td>Banglore</td>\n",
              "      <td>CCU → NAG → BLR</td>\n",
              "      <td>1 stop</td>\n",
              "      <td>No info</td>\n",
              "      <td>6218.0</td>\n",
              "      <td>12</td>\n",
              "      <td>5</td>\n",
              "      <td>18</td>\n",
              "      <td>5</td>\n",
              "      <td>23</td>\n",
              "      <td>30</td>\n",
              "      <td>5</td>\n",
              "      <td>25</td>\n",
              "    </tr>\n",
              "    <tr>\n",
              "      <th>4</th>\n",
              "      <td>IndiGo</td>\n",
              "      <td>Banglore</td>\n",
              "      <td>New Delhi</td>\n",
              "      <td>BLR → NAG → DEL</td>\n",
              "      <td>1 stop</td>\n",
              "      <td>No info</td>\n",
              "      <td>13302.0</td>\n",
              "      <td>1</td>\n",
              "      <td>3</td>\n",
              "      <td>16</td>\n",
              "      <td>50</td>\n",
              "      <td>21</td>\n",
              "      <td>35</td>\n",
              "      <td>4</td>\n",
              "      <td>45</td>\n",
              "    </tr>\n",
              "  </tbody>\n",
              "</table>\n",
              "</div>\n",
              "      <button class=\"colab-df-convert\" onclick=\"convertToInteractive('df-93783c82-bfc7-41d3-a56a-2ebc837b9617')\"\n",
              "              title=\"Convert this dataframe to an interactive table.\"\n",
              "              style=\"display:none;\">\n",
              "        \n",
              "  <svg xmlns=\"http://www.w3.org/2000/svg\" height=\"24px\"viewBox=\"0 0 24 24\"\n",
              "       width=\"24px\">\n",
              "    <path d=\"M0 0h24v24H0V0z\" fill=\"none\"/>\n",
              "    <path d=\"M18.56 5.44l.94 2.06.94-2.06 2.06-.94-2.06-.94-.94-2.06-.94 2.06-2.06.94zm-11 1L8.5 8.5l.94-2.06 2.06-.94-2.06-.94L8.5 2.5l-.94 2.06-2.06.94zm10 10l.94 2.06.94-2.06 2.06-.94-2.06-.94-.94-2.06-.94 2.06-2.06.94z\"/><path d=\"M17.41 7.96l-1.37-1.37c-.4-.4-.92-.59-1.43-.59-.52 0-1.04.2-1.43.59L10.3 9.45l-7.72 7.72c-.78.78-.78 2.05 0 2.83L4 21.41c.39.39.9.59 1.41.59.51 0 1.02-.2 1.41-.59l7.78-7.78 2.81-2.81c.8-.78.8-2.07 0-2.86zM5.41 20L4 18.59l7.72-7.72 1.47 1.35L5.41 20z\"/>\n",
              "  </svg>\n",
              "      </button>\n",
              "      \n",
              "  <style>\n",
              "    .colab-df-container {\n",
              "      display:flex;\n",
              "      flex-wrap:wrap;\n",
              "      gap: 12px;\n",
              "    }\n",
              "\n",
              "    .colab-df-convert {\n",
              "      background-color: #E8F0FE;\n",
              "      border: none;\n",
              "      border-radius: 50%;\n",
              "      cursor: pointer;\n",
              "      display: none;\n",
              "      fill: #1967D2;\n",
              "      height: 32px;\n",
              "      padding: 0 0 0 0;\n",
              "      width: 32px;\n",
              "    }\n",
              "\n",
              "    .colab-df-convert:hover {\n",
              "      background-color: #E2EBFA;\n",
              "      box-shadow: 0px 1px 2px rgba(60, 64, 67, 0.3), 0px 1px 3px 1px rgba(60, 64, 67, 0.15);\n",
              "      fill: #174EA6;\n",
              "    }\n",
              "\n",
              "    [theme=dark] .colab-df-convert {\n",
              "      background-color: #3B4455;\n",
              "      fill: #D2E3FC;\n",
              "    }\n",
              "\n",
              "    [theme=dark] .colab-df-convert:hover {\n",
              "      background-color: #434B5C;\n",
              "      box-shadow: 0px 1px 3px 1px rgba(0, 0, 0, 0.15);\n",
              "      filter: drop-shadow(0px 1px 2px rgba(0, 0, 0, 0.3));\n",
              "      fill: #FFFFFF;\n",
              "    }\n",
              "  </style>\n",
              "\n",
              "      <script>\n",
              "        const buttonEl =\n",
              "          document.querySelector('#df-93783c82-bfc7-41d3-a56a-2ebc837b9617 button.colab-df-convert');\n",
              "        buttonEl.style.display =\n",
              "          google.colab.kernel.accessAllowed ? 'block' : 'none';\n",
              "\n",
              "        async function convertToInteractive(key) {\n",
              "          const element = document.querySelector('#df-93783c82-bfc7-41d3-a56a-2ebc837b9617');\n",
              "          const dataTable =\n",
              "            await google.colab.kernel.invokeFunction('convertToInteractive',\n",
              "                                                     [key], {});\n",
              "          if (!dataTable) return;\n",
              "\n",
              "          const docLinkHtml = 'Like what you see? Visit the ' +\n",
              "            '<a target=\"_blank\" href=https://colab.research.google.com/notebooks/data_table.ipynb>data table notebook</a>'\n",
              "            + ' to learn more about interactive tables.';\n",
              "          element.innerHTML = '';\n",
              "          dataTable['output_type'] = 'display_data';\n",
              "          await google.colab.output.renderOutput(dataTable, element);\n",
              "          const docLink = document.createElement('div');\n",
              "          docLink.innerHTML = docLinkHtml;\n",
              "          element.appendChild(docLink);\n",
              "        }\n",
              "      </script>\n",
              "    </div>\n",
              "  </div>\n",
              "  "
            ]
          },
          "metadata": {},
          "execution_count": 28
        }
      ],
      "source": [
        "train_data.head()"
      ],
      "id": "f5af732c"
    },
    {
      "cell_type": "markdown",
      "metadata": {
        "id": "24660bfa"
      },
      "source": [
        "#### Handling Categorical Data\n",
        "\n",
        "**We have two types of categorical data in general:**\n",
        "\n",
        "1) Nominal Data : data does not have natural order or rank -->  use OneHotEncoder\n",
        "\n",
        "2) Ordinal Data : data that have natural order or rank -->      use OrdinalEncoder"
      ],
      "id": "24660bfa"
    },
    {
      "cell_type": "code",
      "execution_count": 29,
      "metadata": {
        "colab": {
          "base_uri": "https://localhost:8080/",
          "height": 305
        },
        "id": "3e051037",
        "outputId": "5215bc91-cb38-47c4-c7bd-69b9193da3c7"
      },
      "outputs": [
        {
          "output_type": "execute_result",
          "data": {
            "text/plain": [
              "   Airline_Air India  Airline_GoAir  Airline_IndiGo  Airline_Jet Airways  \\\n",
              "0                  0              0               1                    0   \n",
              "1                  1              0               0                    0   \n",
              "2                  0              0               0                    1   \n",
              "3                  0              0               1                    0   \n",
              "4                  0              0               1                    0   \n",
              "\n",
              "   Airline_Jet Airways Business  Airline_Multiple carriers  \\\n",
              "0                             0                          0   \n",
              "1                             0                          0   \n",
              "2                             0                          0   \n",
              "3                             0                          0   \n",
              "4                             0                          0   \n",
              "\n",
              "   Airline_Multiple carriers Premium economy  Airline_SpiceJet  \\\n",
              "0                                          0                 0   \n",
              "1                                          0                 0   \n",
              "2                                          0                 0   \n",
              "3                                          0                 0   \n",
              "4                                          0                 0   \n",
              "\n",
              "   Airline_Trujet  Airline_Vistara  Airline_Vistara Premium economy  \n",
              "0               0                0                                0  \n",
              "1               0                0                                0  \n",
              "2               0                0                                0  \n",
              "3               0                0                                0  \n",
              "4               0                0                                0  "
            ],
            "text/html": [
              "\n",
              "  <div id=\"df-0c3b466f-ad79-4924-8411-8ecca5def4d0\">\n",
              "    <div class=\"colab-df-container\">\n",
              "      <div>\n",
              "<style scoped>\n",
              "    .dataframe tbody tr th:only-of-type {\n",
              "        vertical-align: middle;\n",
              "    }\n",
              "\n",
              "    .dataframe tbody tr th {\n",
              "        vertical-align: top;\n",
              "    }\n",
              "\n",
              "    .dataframe thead th {\n",
              "        text-align: right;\n",
              "    }\n",
              "</style>\n",
              "<table border=\"1\" class=\"dataframe\">\n",
              "  <thead>\n",
              "    <tr style=\"text-align: right;\">\n",
              "      <th></th>\n",
              "      <th>Airline_Air India</th>\n",
              "      <th>Airline_GoAir</th>\n",
              "      <th>Airline_IndiGo</th>\n",
              "      <th>Airline_Jet Airways</th>\n",
              "      <th>Airline_Jet Airways Business</th>\n",
              "      <th>Airline_Multiple carriers</th>\n",
              "      <th>Airline_Multiple carriers Premium economy</th>\n",
              "      <th>Airline_SpiceJet</th>\n",
              "      <th>Airline_Trujet</th>\n",
              "      <th>Airline_Vistara</th>\n",
              "      <th>Airline_Vistara Premium economy</th>\n",
              "    </tr>\n",
              "  </thead>\n",
              "  <tbody>\n",
              "    <tr>\n",
              "      <th>0</th>\n",
              "      <td>0</td>\n",
              "      <td>0</td>\n",
              "      <td>1</td>\n",
              "      <td>0</td>\n",
              "      <td>0</td>\n",
              "      <td>0</td>\n",
              "      <td>0</td>\n",
              "      <td>0</td>\n",
              "      <td>0</td>\n",
              "      <td>0</td>\n",
              "      <td>0</td>\n",
              "    </tr>\n",
              "    <tr>\n",
              "      <th>1</th>\n",
              "      <td>1</td>\n",
              "      <td>0</td>\n",
              "      <td>0</td>\n",
              "      <td>0</td>\n",
              "      <td>0</td>\n",
              "      <td>0</td>\n",
              "      <td>0</td>\n",
              "      <td>0</td>\n",
              "      <td>0</td>\n",
              "      <td>0</td>\n",
              "      <td>0</td>\n",
              "    </tr>\n",
              "    <tr>\n",
              "      <th>2</th>\n",
              "      <td>0</td>\n",
              "      <td>0</td>\n",
              "      <td>0</td>\n",
              "      <td>1</td>\n",
              "      <td>0</td>\n",
              "      <td>0</td>\n",
              "      <td>0</td>\n",
              "      <td>0</td>\n",
              "      <td>0</td>\n",
              "      <td>0</td>\n",
              "      <td>0</td>\n",
              "    </tr>\n",
              "    <tr>\n",
              "      <th>3</th>\n",
              "      <td>0</td>\n",
              "      <td>0</td>\n",
              "      <td>1</td>\n",
              "      <td>0</td>\n",
              "      <td>0</td>\n",
              "      <td>0</td>\n",
              "      <td>0</td>\n",
              "      <td>0</td>\n",
              "      <td>0</td>\n",
              "      <td>0</td>\n",
              "      <td>0</td>\n",
              "    </tr>\n",
              "    <tr>\n",
              "      <th>4</th>\n",
              "      <td>0</td>\n",
              "      <td>0</td>\n",
              "      <td>1</td>\n",
              "      <td>0</td>\n",
              "      <td>0</td>\n",
              "      <td>0</td>\n",
              "      <td>0</td>\n",
              "      <td>0</td>\n",
              "      <td>0</td>\n",
              "      <td>0</td>\n",
              "      <td>0</td>\n",
              "    </tr>\n",
              "  </tbody>\n",
              "</table>\n",
              "</div>\n",
              "      <button class=\"colab-df-convert\" onclick=\"convertToInteractive('df-0c3b466f-ad79-4924-8411-8ecca5def4d0')\"\n",
              "              title=\"Convert this dataframe to an interactive table.\"\n",
              "              style=\"display:none;\">\n",
              "        \n",
              "  <svg xmlns=\"http://www.w3.org/2000/svg\" height=\"24px\"viewBox=\"0 0 24 24\"\n",
              "       width=\"24px\">\n",
              "    <path d=\"M0 0h24v24H0V0z\" fill=\"none\"/>\n",
              "    <path d=\"M18.56 5.44l.94 2.06.94-2.06 2.06-.94-2.06-.94-.94-2.06-.94 2.06-2.06.94zm-11 1L8.5 8.5l.94-2.06 2.06-.94-2.06-.94L8.5 2.5l-.94 2.06-2.06.94zm10 10l.94 2.06.94-2.06 2.06-.94-2.06-.94-.94-2.06-.94 2.06-2.06.94z\"/><path d=\"M17.41 7.96l-1.37-1.37c-.4-.4-.92-.59-1.43-.59-.52 0-1.04.2-1.43.59L10.3 9.45l-7.72 7.72c-.78.78-.78 2.05 0 2.83L4 21.41c.39.39.9.59 1.41.59.51 0 1.02-.2 1.41-.59l7.78-7.78 2.81-2.81c.8-.78.8-2.07 0-2.86zM5.41 20L4 18.59l7.72-7.72 1.47 1.35L5.41 20z\"/>\n",
              "  </svg>\n",
              "      </button>\n",
              "      \n",
              "  <style>\n",
              "    .colab-df-container {\n",
              "      display:flex;\n",
              "      flex-wrap:wrap;\n",
              "      gap: 12px;\n",
              "    }\n",
              "\n",
              "    .colab-df-convert {\n",
              "      background-color: #E8F0FE;\n",
              "      border: none;\n",
              "      border-radius: 50%;\n",
              "      cursor: pointer;\n",
              "      display: none;\n",
              "      fill: #1967D2;\n",
              "      height: 32px;\n",
              "      padding: 0 0 0 0;\n",
              "      width: 32px;\n",
              "    }\n",
              "\n",
              "    .colab-df-convert:hover {\n",
              "      background-color: #E2EBFA;\n",
              "      box-shadow: 0px 1px 2px rgba(60, 64, 67, 0.3), 0px 1px 3px 1px rgba(60, 64, 67, 0.15);\n",
              "      fill: #174EA6;\n",
              "    }\n",
              "\n",
              "    [theme=dark] .colab-df-convert {\n",
              "      background-color: #3B4455;\n",
              "      fill: #D2E3FC;\n",
              "    }\n",
              "\n",
              "    [theme=dark] .colab-df-convert:hover {\n",
              "      background-color: #434B5C;\n",
              "      box-shadow: 0px 1px 3px 1px rgba(0, 0, 0, 0.15);\n",
              "      filter: drop-shadow(0px 1px 2px rgba(0, 0, 0, 0.3));\n",
              "      fill: #FFFFFF;\n",
              "    }\n",
              "  </style>\n",
              "\n",
              "      <script>\n",
              "        const buttonEl =\n",
              "          document.querySelector('#df-0c3b466f-ad79-4924-8411-8ecca5def4d0 button.colab-df-convert');\n",
              "        buttonEl.style.display =\n",
              "          google.colab.kernel.accessAllowed ? 'block' : 'none';\n",
              "\n",
              "        async function convertToInteractive(key) {\n",
              "          const element = document.querySelector('#df-0c3b466f-ad79-4924-8411-8ecca5def4d0');\n",
              "          const dataTable =\n",
              "            await google.colab.kernel.invokeFunction('convertToInteractive',\n",
              "                                                     [key], {});\n",
              "          if (!dataTable) return;\n",
              "\n",
              "          const docLinkHtml = 'Like what you see? Visit the ' +\n",
              "            '<a target=\"_blank\" href=https://colab.research.google.com/notebooks/data_table.ipynb>data table notebook</a>'\n",
              "            + ' to learn more about interactive tables.';\n",
              "          element.innerHTML = '';\n",
              "          dataTable['output_type'] = 'display_data';\n",
              "          await google.colab.output.renderOutput(dataTable, element);\n",
              "          const docLink = document.createElement('div');\n",
              "          docLink.innerHTML = docLinkHtml;\n",
              "          element.appendChild(docLink);\n",
              "        }\n",
              "      </script>\n",
              "    </div>\n",
              "  </div>\n",
              "  "
            ]
          },
          "metadata": {},
          "execution_count": 29
        }
      ],
      "source": [
        "# As 'Airline' is categorical data, we will perform OneHotEncoding\n",
        "Airline = train_data[['Airline']]\n",
        "# drop_first = True drops the first dummy variable,\n",
        "# because if all other dummy variables are 0's, this means our first\n",
        "# dummy would have been 1, plus we reduced our number of features by 1.\n",
        "Airline = pd.get_dummies(Airline, drop_first = True)\n",
        "Airline.head()"
      ],
      "id": "3e051037"
    },
    {
      "cell_type": "code",
      "execution_count": 30,
      "metadata": {
        "colab": {
          "base_uri": "https://localhost:8080/",
          "height": 206
        },
        "id": "46c959f2",
        "outputId": "74321504-22f9-42a3-ce15-9080f25ddf9c"
      },
      "outputs": [
        {
          "output_type": "execute_result",
          "data": {
            "text/plain": [
              "   Source_Chennai  Source_Delhi  Source_Kolkata  Source_Mumbai\n",
              "0               0             0               0              0\n",
              "1               0             0               1              0\n",
              "2               0             1               0              0\n",
              "3               0             0               1              0\n",
              "4               0             0               0              0"
            ],
            "text/html": [
              "\n",
              "  <div id=\"df-6b96d279-5468-445a-83c5-527b28e4275e\">\n",
              "    <div class=\"colab-df-container\">\n",
              "      <div>\n",
              "<style scoped>\n",
              "    .dataframe tbody tr th:only-of-type {\n",
              "        vertical-align: middle;\n",
              "    }\n",
              "\n",
              "    .dataframe tbody tr th {\n",
              "        vertical-align: top;\n",
              "    }\n",
              "\n",
              "    .dataframe thead th {\n",
              "        text-align: right;\n",
              "    }\n",
              "</style>\n",
              "<table border=\"1\" class=\"dataframe\">\n",
              "  <thead>\n",
              "    <tr style=\"text-align: right;\">\n",
              "      <th></th>\n",
              "      <th>Source_Chennai</th>\n",
              "      <th>Source_Delhi</th>\n",
              "      <th>Source_Kolkata</th>\n",
              "      <th>Source_Mumbai</th>\n",
              "    </tr>\n",
              "  </thead>\n",
              "  <tbody>\n",
              "    <tr>\n",
              "      <th>0</th>\n",
              "      <td>0</td>\n",
              "      <td>0</td>\n",
              "      <td>0</td>\n",
              "      <td>0</td>\n",
              "    </tr>\n",
              "    <tr>\n",
              "      <th>1</th>\n",
              "      <td>0</td>\n",
              "      <td>0</td>\n",
              "      <td>1</td>\n",
              "      <td>0</td>\n",
              "    </tr>\n",
              "    <tr>\n",
              "      <th>2</th>\n",
              "      <td>0</td>\n",
              "      <td>1</td>\n",
              "      <td>0</td>\n",
              "      <td>0</td>\n",
              "    </tr>\n",
              "    <tr>\n",
              "      <th>3</th>\n",
              "      <td>0</td>\n",
              "      <td>0</td>\n",
              "      <td>1</td>\n",
              "      <td>0</td>\n",
              "    </tr>\n",
              "    <tr>\n",
              "      <th>4</th>\n",
              "      <td>0</td>\n",
              "      <td>0</td>\n",
              "      <td>0</td>\n",
              "      <td>0</td>\n",
              "    </tr>\n",
              "  </tbody>\n",
              "</table>\n",
              "</div>\n",
              "      <button class=\"colab-df-convert\" onclick=\"convertToInteractive('df-6b96d279-5468-445a-83c5-527b28e4275e')\"\n",
              "              title=\"Convert this dataframe to an interactive table.\"\n",
              "              style=\"display:none;\">\n",
              "        \n",
              "  <svg xmlns=\"http://www.w3.org/2000/svg\" height=\"24px\"viewBox=\"0 0 24 24\"\n",
              "       width=\"24px\">\n",
              "    <path d=\"M0 0h24v24H0V0z\" fill=\"none\"/>\n",
              "    <path d=\"M18.56 5.44l.94 2.06.94-2.06 2.06-.94-2.06-.94-.94-2.06-.94 2.06-2.06.94zm-11 1L8.5 8.5l.94-2.06 2.06-.94-2.06-.94L8.5 2.5l-.94 2.06-2.06.94zm10 10l.94 2.06.94-2.06 2.06-.94-2.06-.94-.94-2.06-.94 2.06-2.06.94z\"/><path d=\"M17.41 7.96l-1.37-1.37c-.4-.4-.92-.59-1.43-.59-.52 0-1.04.2-1.43.59L10.3 9.45l-7.72 7.72c-.78.78-.78 2.05 0 2.83L4 21.41c.39.39.9.59 1.41.59.51 0 1.02-.2 1.41-.59l7.78-7.78 2.81-2.81c.8-.78.8-2.07 0-2.86zM5.41 20L4 18.59l7.72-7.72 1.47 1.35L5.41 20z\"/>\n",
              "  </svg>\n",
              "      </button>\n",
              "      \n",
              "  <style>\n",
              "    .colab-df-container {\n",
              "      display:flex;\n",
              "      flex-wrap:wrap;\n",
              "      gap: 12px;\n",
              "    }\n",
              "\n",
              "    .colab-df-convert {\n",
              "      background-color: #E8F0FE;\n",
              "      border: none;\n",
              "      border-radius: 50%;\n",
              "      cursor: pointer;\n",
              "      display: none;\n",
              "      fill: #1967D2;\n",
              "      height: 32px;\n",
              "      padding: 0 0 0 0;\n",
              "      width: 32px;\n",
              "    }\n",
              "\n",
              "    .colab-df-convert:hover {\n",
              "      background-color: #E2EBFA;\n",
              "      box-shadow: 0px 1px 2px rgba(60, 64, 67, 0.3), 0px 1px 3px 1px rgba(60, 64, 67, 0.15);\n",
              "      fill: #174EA6;\n",
              "    }\n",
              "\n",
              "    [theme=dark] .colab-df-convert {\n",
              "      background-color: #3B4455;\n",
              "      fill: #D2E3FC;\n",
              "    }\n",
              "\n",
              "    [theme=dark] .colab-df-convert:hover {\n",
              "      background-color: #434B5C;\n",
              "      box-shadow: 0px 1px 3px 1px rgba(0, 0, 0, 0.15);\n",
              "      filter: drop-shadow(0px 1px 2px rgba(0, 0, 0, 0.3));\n",
              "      fill: #FFFFFF;\n",
              "    }\n",
              "  </style>\n",
              "\n",
              "      <script>\n",
              "        const buttonEl =\n",
              "          document.querySelector('#df-6b96d279-5468-445a-83c5-527b28e4275e button.colab-df-convert');\n",
              "        buttonEl.style.display =\n",
              "          google.colab.kernel.accessAllowed ? 'block' : 'none';\n",
              "\n",
              "        async function convertToInteractive(key) {\n",
              "          const element = document.querySelector('#df-6b96d279-5468-445a-83c5-527b28e4275e');\n",
              "          const dataTable =\n",
              "            await google.colab.kernel.invokeFunction('convertToInteractive',\n",
              "                                                     [key], {});\n",
              "          if (!dataTable) return;\n",
              "\n",
              "          const docLinkHtml = 'Like what you see? Visit the ' +\n",
              "            '<a target=\"_blank\" href=https://colab.research.google.com/notebooks/data_table.ipynb>data table notebook</a>'\n",
              "            + ' to learn more about interactive tables.';\n",
              "          element.innerHTML = '';\n",
              "          dataTable['output_type'] = 'display_data';\n",
              "          await google.colab.output.renderOutput(dataTable, element);\n",
              "          const docLink = document.createElement('div');\n",
              "          docLink.innerHTML = docLinkHtml;\n",
              "          element.appendChild(docLink);\n",
              "        }\n",
              "      </script>\n",
              "    </div>\n",
              "  </div>\n",
              "  "
            ]
          },
          "metadata": {},
          "execution_count": 30
        }
      ],
      "source": [
        "# As 'Source' is a nominal Categorical Data, we will perform OneHotEncoding\n",
        "Source = train_data[['Source']]\n",
        "Source = pd.get_dummies(Source, drop_first = True)\n",
        "Source.head()"
      ],
      "id": "46c959f2"
    },
    {
      "cell_type": "code",
      "execution_count": 31,
      "metadata": {
        "colab": {
          "base_uri": "https://localhost:8080/",
          "height": 206
        },
        "id": "ea01720f",
        "outputId": "00d43437-49c3-4660-c3bf-32366afe5963"
      },
      "outputs": [
        {
          "output_type": "execute_result",
          "data": {
            "text/plain": [
              "   Destination_Cochin  Destination_Delhi  Destination_Hyderabad  \\\n",
              "0                   0                  0                      0   \n",
              "1                   0                  0                      0   \n",
              "2                   1                  0                      0   \n",
              "3                   0                  0                      0   \n",
              "4                   0                  0                      0   \n",
              "\n",
              "   Destination_Kolkata  Destination_New Delhi  \n",
              "0                    0                      1  \n",
              "1                    0                      0  \n",
              "2                    0                      0  \n",
              "3                    0                      0  \n",
              "4                    0                      1  "
            ],
            "text/html": [
              "\n",
              "  <div id=\"df-7c4fb78c-5dc6-4672-b6d2-83a63bb4c2f0\">\n",
              "    <div class=\"colab-df-container\">\n",
              "      <div>\n",
              "<style scoped>\n",
              "    .dataframe tbody tr th:only-of-type {\n",
              "        vertical-align: middle;\n",
              "    }\n",
              "\n",
              "    .dataframe tbody tr th {\n",
              "        vertical-align: top;\n",
              "    }\n",
              "\n",
              "    .dataframe thead th {\n",
              "        text-align: right;\n",
              "    }\n",
              "</style>\n",
              "<table border=\"1\" class=\"dataframe\">\n",
              "  <thead>\n",
              "    <tr style=\"text-align: right;\">\n",
              "      <th></th>\n",
              "      <th>Destination_Cochin</th>\n",
              "      <th>Destination_Delhi</th>\n",
              "      <th>Destination_Hyderabad</th>\n",
              "      <th>Destination_Kolkata</th>\n",
              "      <th>Destination_New Delhi</th>\n",
              "    </tr>\n",
              "  </thead>\n",
              "  <tbody>\n",
              "    <tr>\n",
              "      <th>0</th>\n",
              "      <td>0</td>\n",
              "      <td>0</td>\n",
              "      <td>0</td>\n",
              "      <td>0</td>\n",
              "      <td>1</td>\n",
              "    </tr>\n",
              "    <tr>\n",
              "      <th>1</th>\n",
              "      <td>0</td>\n",
              "      <td>0</td>\n",
              "      <td>0</td>\n",
              "      <td>0</td>\n",
              "      <td>0</td>\n",
              "    </tr>\n",
              "    <tr>\n",
              "      <th>2</th>\n",
              "      <td>1</td>\n",
              "      <td>0</td>\n",
              "      <td>0</td>\n",
              "      <td>0</td>\n",
              "      <td>0</td>\n",
              "    </tr>\n",
              "    <tr>\n",
              "      <th>3</th>\n",
              "      <td>0</td>\n",
              "      <td>0</td>\n",
              "      <td>0</td>\n",
              "      <td>0</td>\n",
              "      <td>0</td>\n",
              "    </tr>\n",
              "    <tr>\n",
              "      <th>4</th>\n",
              "      <td>0</td>\n",
              "      <td>0</td>\n",
              "      <td>0</td>\n",
              "      <td>0</td>\n",
              "      <td>1</td>\n",
              "    </tr>\n",
              "  </tbody>\n",
              "</table>\n",
              "</div>\n",
              "      <button class=\"colab-df-convert\" onclick=\"convertToInteractive('df-7c4fb78c-5dc6-4672-b6d2-83a63bb4c2f0')\"\n",
              "              title=\"Convert this dataframe to an interactive table.\"\n",
              "              style=\"display:none;\">\n",
              "        \n",
              "  <svg xmlns=\"http://www.w3.org/2000/svg\" height=\"24px\"viewBox=\"0 0 24 24\"\n",
              "       width=\"24px\">\n",
              "    <path d=\"M0 0h24v24H0V0z\" fill=\"none\"/>\n",
              "    <path d=\"M18.56 5.44l.94 2.06.94-2.06 2.06-.94-2.06-.94-.94-2.06-.94 2.06-2.06.94zm-11 1L8.5 8.5l.94-2.06 2.06-.94-2.06-.94L8.5 2.5l-.94 2.06-2.06.94zm10 10l.94 2.06.94-2.06 2.06-.94-2.06-.94-.94-2.06-.94 2.06-2.06.94z\"/><path d=\"M17.41 7.96l-1.37-1.37c-.4-.4-.92-.59-1.43-.59-.52 0-1.04.2-1.43.59L10.3 9.45l-7.72 7.72c-.78.78-.78 2.05 0 2.83L4 21.41c.39.39.9.59 1.41.59.51 0 1.02-.2 1.41-.59l7.78-7.78 2.81-2.81c.8-.78.8-2.07 0-2.86zM5.41 20L4 18.59l7.72-7.72 1.47 1.35L5.41 20z\"/>\n",
              "  </svg>\n",
              "      </button>\n",
              "      \n",
              "  <style>\n",
              "    .colab-df-container {\n",
              "      display:flex;\n",
              "      flex-wrap:wrap;\n",
              "      gap: 12px;\n",
              "    }\n",
              "\n",
              "    .colab-df-convert {\n",
              "      background-color: #E8F0FE;\n",
              "      border: none;\n",
              "      border-radius: 50%;\n",
              "      cursor: pointer;\n",
              "      display: none;\n",
              "      fill: #1967D2;\n",
              "      height: 32px;\n",
              "      padding: 0 0 0 0;\n",
              "      width: 32px;\n",
              "    }\n",
              "\n",
              "    .colab-df-convert:hover {\n",
              "      background-color: #E2EBFA;\n",
              "      box-shadow: 0px 1px 2px rgba(60, 64, 67, 0.3), 0px 1px 3px 1px rgba(60, 64, 67, 0.15);\n",
              "      fill: #174EA6;\n",
              "    }\n",
              "\n",
              "    [theme=dark] .colab-df-convert {\n",
              "      background-color: #3B4455;\n",
              "      fill: #D2E3FC;\n",
              "    }\n",
              "\n",
              "    [theme=dark] .colab-df-convert:hover {\n",
              "      background-color: #434B5C;\n",
              "      box-shadow: 0px 1px 3px 1px rgba(0, 0, 0, 0.15);\n",
              "      filter: drop-shadow(0px 1px 2px rgba(0, 0, 0, 0.3));\n",
              "      fill: #FFFFFF;\n",
              "    }\n",
              "  </style>\n",
              "\n",
              "      <script>\n",
              "        const buttonEl =\n",
              "          document.querySelector('#df-7c4fb78c-5dc6-4672-b6d2-83a63bb4c2f0 button.colab-df-convert');\n",
              "        buttonEl.style.display =\n",
              "          google.colab.kernel.accessAllowed ? 'block' : 'none';\n",
              "\n",
              "        async function convertToInteractive(key) {\n",
              "          const element = document.querySelector('#df-7c4fb78c-5dc6-4672-b6d2-83a63bb4c2f0');\n",
              "          const dataTable =\n",
              "            await google.colab.kernel.invokeFunction('convertToInteractive',\n",
              "                                                     [key], {});\n",
              "          if (!dataTable) return;\n",
              "\n",
              "          const docLinkHtml = 'Like what you see? Visit the ' +\n",
              "            '<a target=\"_blank\" href=https://colab.research.google.com/notebooks/data_table.ipynb>data table notebook</a>'\n",
              "            + ' to learn more about interactive tables.';\n",
              "          element.innerHTML = '';\n",
              "          dataTable['output_type'] = 'display_data';\n",
              "          await google.colab.output.renderOutput(dataTable, element);\n",
              "          const docLink = document.createElement('div');\n",
              "          docLink.innerHTML = docLinkHtml;\n",
              "          element.appendChild(docLink);\n",
              "        }\n",
              "      </script>\n",
              "    </div>\n",
              "  </div>\n",
              "  "
            ]
          },
          "metadata": {},
          "execution_count": 31
        }
      ],
      "source": [
        "# Encode 'Destination' column as well\n",
        "Destination = train_data[['Destination']]\n",
        "Destination = pd.get_dummies(Destination, drop_first = True)\n",
        "Destination.head()"
      ],
      "id": "ea01720f"
    },
    {
      "cell_type": "code",
      "execution_count": 32,
      "metadata": {
        "colab": {
          "base_uri": "https://localhost:8080/"
        },
        "id": "d6183309",
        "outputId": "d70d04c2-86b8-491f-8c36-9f92354af979"
      },
      "outputs": [
        {
          "output_type": "execute_result",
          "data": {
            "text/plain": [
              "DEL → BOM → COK          2376\n",
              "BLR → DEL                1552\n",
              "CCU → BOM → BLR           979\n",
              "CCU → BLR                 724\n",
              "BOM → HYD                 621\n",
              "                         ... \n",
              "CCU → VTZ → BLR             1\n",
              "CCU → IXZ → MAA → BLR       1\n",
              "BOM → COK → MAA → HYD       1\n",
              "BOM → CCU → HYD             1\n",
              "BOM → BBI → HYD             1\n",
              "Name: Route, Length: 128, dtype: int64"
            ]
          },
          "metadata": {},
          "execution_count": 32
        }
      ],
      "source": [
        "# Next Categorical variable to look up is 'Route'\n",
        "train_data['Route'].value_counts()"
      ],
      "id": "d6183309"
    },
    {
      "cell_type": "code",
      "execution_count": 33,
      "metadata": {
        "colab": {
          "base_uri": "https://localhost:8080/"
        },
        "id": "80c3cd97",
        "outputId": "36f1ede8-890f-4894-fa91-61d46b487a0e",
        "scrolled": true
      },
      "outputs": [
        {
          "output_type": "execute_result",
          "data": {
            "text/plain": [
              "No info                         0.781127\n",
              "In-flight meal not included     0.185546\n",
              "No check-in baggage included    0.029957\n",
              "1 Long layover                  0.001779\n",
              "Change airports                 0.000655\n",
              "Business class                  0.000374\n",
              "No Info                         0.000281\n",
              "1 Short layover                 0.000094\n",
              "Red-eye flight                  0.000094\n",
              "2 Long layover                  0.000094\n",
              "Name: Additional_Info, dtype: float64"
            ]
          },
          "metadata": {},
          "execution_count": 33
        }
      ],
      "source": [
        "# Next Categorical variable to look up is 'Additional_Info'\n",
        "train_data['Additional_Info'].value_counts(normalize=True)"
      ],
      "id": "80c3cd97"
    },
    {
      "cell_type": "code",
      "execution_count": 34,
      "metadata": {
        "id": "47cbed46"
      },
      "outputs": [],
      "source": [
        "# We will also drop the 'Additional_Info' column\n",
        "# since 78.11% of the data has No Info.\n",
        "# Route and Total Stops represent the same thing\n",
        "train_data.drop(['Route', 'Additional_Info'], axis = 1, inplace = True)"
      ],
      "id": "47cbed46"
    },
    {
      "cell_type": "code",
      "execution_count": 35,
      "metadata": {
        "colab": {
          "base_uri": "https://localhost:8080/",
          "height": 287
        },
        "id": "951441df",
        "outputId": "213d78ae-a633-4a1a-b9da-1b9907661cb8"
      },
      "outputs": [
        {
          "output_type": "execute_result",
          "data": {
            "text/plain": [
              "       Airline    Source Destination Total_Stops    Price  Journey_day  \\\n",
              "0       IndiGo  Banglore   New Delhi    non-stop   3897.0           24   \n",
              "1    Air India   Kolkata    Banglore     2 stops   7662.0            1   \n",
              "2  Jet Airways     Delhi      Cochin     2 stops  13882.0            9   \n",
              "3       IndiGo   Kolkata    Banglore      1 stop   6218.0           12   \n",
              "4       IndiGo  Banglore   New Delhi      1 stop  13302.0            1   \n",
              "\n",
              "   Journey_month  Dep_hour  Dep_min  Arrival_hour  Arrival_min  Duration_hour  \\\n",
              "0              3        22       20             1           10              2   \n",
              "1              5         5       50            13           15              7   \n",
              "2              6         9       25             4           25             19   \n",
              "3              5        18        5            23           30              5   \n",
              "4              3        16       50            21           35              4   \n",
              "\n",
              "   Duration_min  \n",
              "0            50  \n",
              "1            25  \n",
              "2             0  \n",
              "3            25  \n",
              "4            45  "
            ],
            "text/html": [
              "\n",
              "  <div id=\"df-fb4b622b-ef2d-405c-bacc-5dfc6be0c4ad\">\n",
              "    <div class=\"colab-df-container\">\n",
              "      <div>\n",
              "<style scoped>\n",
              "    .dataframe tbody tr th:only-of-type {\n",
              "        vertical-align: middle;\n",
              "    }\n",
              "\n",
              "    .dataframe tbody tr th {\n",
              "        vertical-align: top;\n",
              "    }\n",
              "\n",
              "    .dataframe thead th {\n",
              "        text-align: right;\n",
              "    }\n",
              "</style>\n",
              "<table border=\"1\" class=\"dataframe\">\n",
              "  <thead>\n",
              "    <tr style=\"text-align: right;\">\n",
              "      <th></th>\n",
              "      <th>Airline</th>\n",
              "      <th>Source</th>\n",
              "      <th>Destination</th>\n",
              "      <th>Total_Stops</th>\n",
              "      <th>Price</th>\n",
              "      <th>Journey_day</th>\n",
              "      <th>Journey_month</th>\n",
              "      <th>Dep_hour</th>\n",
              "      <th>Dep_min</th>\n",
              "      <th>Arrival_hour</th>\n",
              "      <th>Arrival_min</th>\n",
              "      <th>Duration_hour</th>\n",
              "      <th>Duration_min</th>\n",
              "    </tr>\n",
              "  </thead>\n",
              "  <tbody>\n",
              "    <tr>\n",
              "      <th>0</th>\n",
              "      <td>IndiGo</td>\n",
              "      <td>Banglore</td>\n",
              "      <td>New Delhi</td>\n",
              "      <td>non-stop</td>\n",
              "      <td>3897.0</td>\n",
              "      <td>24</td>\n",
              "      <td>3</td>\n",
              "      <td>22</td>\n",
              "      <td>20</td>\n",
              "      <td>1</td>\n",
              "      <td>10</td>\n",
              "      <td>2</td>\n",
              "      <td>50</td>\n",
              "    </tr>\n",
              "    <tr>\n",
              "      <th>1</th>\n",
              "      <td>Air India</td>\n",
              "      <td>Kolkata</td>\n",
              "      <td>Banglore</td>\n",
              "      <td>2 stops</td>\n",
              "      <td>7662.0</td>\n",
              "      <td>1</td>\n",
              "      <td>5</td>\n",
              "      <td>5</td>\n",
              "      <td>50</td>\n",
              "      <td>13</td>\n",
              "      <td>15</td>\n",
              "      <td>7</td>\n",
              "      <td>25</td>\n",
              "    </tr>\n",
              "    <tr>\n",
              "      <th>2</th>\n",
              "      <td>Jet Airways</td>\n",
              "      <td>Delhi</td>\n",
              "      <td>Cochin</td>\n",
              "      <td>2 stops</td>\n",
              "      <td>13882.0</td>\n",
              "      <td>9</td>\n",
              "      <td>6</td>\n",
              "      <td>9</td>\n",
              "      <td>25</td>\n",
              "      <td>4</td>\n",
              "      <td>25</td>\n",
              "      <td>19</td>\n",
              "      <td>0</td>\n",
              "    </tr>\n",
              "    <tr>\n",
              "      <th>3</th>\n",
              "      <td>IndiGo</td>\n",
              "      <td>Kolkata</td>\n",
              "      <td>Banglore</td>\n",
              "      <td>1 stop</td>\n",
              "      <td>6218.0</td>\n",
              "      <td>12</td>\n",
              "      <td>5</td>\n",
              "      <td>18</td>\n",
              "      <td>5</td>\n",
              "      <td>23</td>\n",
              "      <td>30</td>\n",
              "      <td>5</td>\n",
              "      <td>25</td>\n",
              "    </tr>\n",
              "    <tr>\n",
              "      <th>4</th>\n",
              "      <td>IndiGo</td>\n",
              "      <td>Banglore</td>\n",
              "      <td>New Delhi</td>\n",
              "      <td>1 stop</td>\n",
              "      <td>13302.0</td>\n",
              "      <td>1</td>\n",
              "      <td>3</td>\n",
              "      <td>16</td>\n",
              "      <td>50</td>\n",
              "      <td>21</td>\n",
              "      <td>35</td>\n",
              "      <td>4</td>\n",
              "      <td>45</td>\n",
              "    </tr>\n",
              "  </tbody>\n",
              "</table>\n",
              "</div>\n",
              "      <button class=\"colab-df-convert\" onclick=\"convertToInteractive('df-fb4b622b-ef2d-405c-bacc-5dfc6be0c4ad')\"\n",
              "              title=\"Convert this dataframe to an interactive table.\"\n",
              "              style=\"display:none;\">\n",
              "        \n",
              "  <svg xmlns=\"http://www.w3.org/2000/svg\" height=\"24px\"viewBox=\"0 0 24 24\"\n",
              "       width=\"24px\">\n",
              "    <path d=\"M0 0h24v24H0V0z\" fill=\"none\"/>\n",
              "    <path d=\"M18.56 5.44l.94 2.06.94-2.06 2.06-.94-2.06-.94-.94-2.06-.94 2.06-2.06.94zm-11 1L8.5 8.5l.94-2.06 2.06-.94-2.06-.94L8.5 2.5l-.94 2.06-2.06.94zm10 10l.94 2.06.94-2.06 2.06-.94-2.06-.94-.94-2.06-.94 2.06-2.06.94z\"/><path d=\"M17.41 7.96l-1.37-1.37c-.4-.4-.92-.59-1.43-.59-.52 0-1.04.2-1.43.59L10.3 9.45l-7.72 7.72c-.78.78-.78 2.05 0 2.83L4 21.41c.39.39.9.59 1.41.59.51 0 1.02-.2 1.41-.59l7.78-7.78 2.81-2.81c.8-.78.8-2.07 0-2.86zM5.41 20L4 18.59l7.72-7.72 1.47 1.35L5.41 20z\"/>\n",
              "  </svg>\n",
              "      </button>\n",
              "      \n",
              "  <style>\n",
              "    .colab-df-container {\n",
              "      display:flex;\n",
              "      flex-wrap:wrap;\n",
              "      gap: 12px;\n",
              "    }\n",
              "\n",
              "    .colab-df-convert {\n",
              "      background-color: #E8F0FE;\n",
              "      border: none;\n",
              "      border-radius: 50%;\n",
              "      cursor: pointer;\n",
              "      display: none;\n",
              "      fill: #1967D2;\n",
              "      height: 32px;\n",
              "      padding: 0 0 0 0;\n",
              "      width: 32px;\n",
              "    }\n",
              "\n",
              "    .colab-df-convert:hover {\n",
              "      background-color: #E2EBFA;\n",
              "      box-shadow: 0px 1px 2px rgba(60, 64, 67, 0.3), 0px 1px 3px 1px rgba(60, 64, 67, 0.15);\n",
              "      fill: #174EA6;\n",
              "    }\n",
              "\n",
              "    [theme=dark] .colab-df-convert {\n",
              "      background-color: #3B4455;\n",
              "      fill: #D2E3FC;\n",
              "    }\n",
              "\n",
              "    [theme=dark] .colab-df-convert:hover {\n",
              "      background-color: #434B5C;\n",
              "      box-shadow: 0px 1px 3px 1px rgba(0, 0, 0, 0.15);\n",
              "      filter: drop-shadow(0px 1px 2px rgba(0, 0, 0, 0.3));\n",
              "      fill: #FFFFFF;\n",
              "    }\n",
              "  </style>\n",
              "\n",
              "      <script>\n",
              "        const buttonEl =\n",
              "          document.querySelector('#df-fb4b622b-ef2d-405c-bacc-5dfc6be0c4ad button.colab-df-convert');\n",
              "        buttonEl.style.display =\n",
              "          google.colab.kernel.accessAllowed ? 'block' : 'none';\n",
              "\n",
              "        async function convertToInteractive(key) {\n",
              "          const element = document.querySelector('#df-fb4b622b-ef2d-405c-bacc-5dfc6be0c4ad');\n",
              "          const dataTable =\n",
              "            await google.colab.kernel.invokeFunction('convertToInteractive',\n",
              "                                                     [key], {});\n",
              "          if (!dataTable) return;\n",
              "\n",
              "          const docLinkHtml = 'Like what you see? Visit the ' +\n",
              "            '<a target=\"_blank\" href=https://colab.research.google.com/notebooks/data_table.ipynb>data table notebook</a>'\n",
              "            + ' to learn more about interactive tables.';\n",
              "          element.innerHTML = '';\n",
              "          dataTable['output_type'] = 'display_data';\n",
              "          await google.colab.output.renderOutput(dataTable, element);\n",
              "          const docLink = document.createElement('div');\n",
              "          docLink.innerHTML = docLinkHtml;\n",
              "          element.appendChild(docLink);\n",
              "        }\n",
              "      </script>\n",
              "    </div>\n",
              "  </div>\n",
              "  "
            ]
          },
          "metadata": {},
          "execution_count": 35
        }
      ],
      "source": [
        "train_data.head()"
      ],
      "id": "951441df"
    },
    {
      "cell_type": "code",
      "execution_count": 36,
      "metadata": {
        "colab": {
          "base_uri": "https://localhost:8080/"
        },
        "id": "4c16b4ae",
        "outputId": "d764253b-a8b3-42e3-e19c-6e0978dad051",
        "scrolled": true
      },
      "outputs": [
        {
          "output_type": "execute_result",
          "data": {
            "text/plain": [
              "1 stop      0.526587\n",
              "non-stop    0.326811\n",
              "2 stops     0.142295\n",
              "3 stops     0.004213\n",
              "4 stops     0.000094\n",
              "Name: Total_Stops, dtype: float64"
            ]
          },
          "metadata": {},
          "execution_count": 36
        }
      ],
      "source": [
        "# Last categorical variable to look up\n",
        "train_data['Total_Stops'].value_counts(normalize = True)"
      ],
      "id": "4c16b4ae"
    },
    {
      "cell_type": "code",
      "execution_count": 37,
      "metadata": {
        "id": "8c8d1c31",
        "scrolled": true
      },
      "outputs": [],
      "source": [
        "# From EDA,\n",
        "# Price goes up as number of stops increases.\n",
        "# This means that 'Total_Stops' is an ordinal variable\n",
        "# because the order has meaning.\n",
        "total_stops_mapping = {\n",
        "    'non-stop': 0,\n",
        "    '1 stop': 1,\n",
        "    '2 stops': 2,\n",
        "    '3 stops': 3,\n",
        "    '4 stops': 4\n",
        "}\n",
        "# Encoding 'Total_Stops'\n",
        "train_data['Total_Stops'] = train_data['Total_Stops'].map(total_stops_mapping)"
      ],
      "id": "8c8d1c31"
    },
    {
      "cell_type": "code",
      "execution_count": 38,
      "metadata": {
        "colab": {
          "base_uri": "https://localhost:8080/"
        },
        "id": "ca472d79",
        "outputId": "f45bf76c-43d9-4096-df51-d8f62326a5d5",
        "scrolled": true
      },
      "outputs": [
        {
          "output_type": "execute_result",
          "data": {
            "text/plain": [
              "0    0\n",
              "1    2\n",
              "2    2\n",
              "3    1\n",
              "4    1\n",
              "5    0\n",
              "6    1\n",
              "7    1\n",
              "8    1\n",
              "9    1\n",
              "Name: Total_Stops, dtype: int64"
            ]
          },
          "metadata": {},
          "execution_count": 38
        }
      ],
      "source": [
        "train_data.Total_Stops.head(10)"
      ],
      "id": "ca472d79"
    },
    {
      "cell_type": "code",
      "execution_count": 39,
      "metadata": {
        "id": "fbddf349"
      },
      "outputs": [],
      "source": [
        "# Concacenate dataframes --> train_data, Airline, Source, Destination\n",
        "train_data_full = pd.concat([train_data, Airline, Source, Destination], axis = 1)"
      ],
      "id": "fbddf349"
    },
    {
      "cell_type": "code",
      "execution_count": 40,
      "metadata": {
        "id": "1733fe2d"
      },
      "outputs": [],
      "source": [
        "# Drop unencoded categorical variables as they are of no use.\n",
        "train_data_full.drop(['Airline', 'Source', 'Destination'], axis = 1, inplace = True)"
      ],
      "id": "1733fe2d"
    },
    {
      "cell_type": "code",
      "execution_count": 41,
      "metadata": {
        "colab": {
          "base_uri": "https://localhost:8080/"
        },
        "id": "702a14ca",
        "outputId": "05167b6e-4f09-428f-ae3c-48f83cdd609a"
      },
      "outputs": [
        {
          "output_type": "stream",
          "name": "stdout",
          "text": [
            "<class 'pandas.core.frame.DataFrame'>\n",
            "Int64Index: 10682 entries, 0 to 10682\n",
            "Data columns (total 30 columns):\n",
            " #   Column                                     Non-Null Count  Dtype  \n",
            "---  ------                                     --------------  -----  \n",
            " 0   Total_Stops                                10682 non-null  int64  \n",
            " 1   Price                                      10682 non-null  float64\n",
            " 2   Journey_day                                10682 non-null  int64  \n",
            " 3   Journey_month                              10682 non-null  int64  \n",
            " 4   Dep_hour                                   10682 non-null  int64  \n",
            " 5   Dep_min                                    10682 non-null  int64  \n",
            " 6   Arrival_hour                               10682 non-null  int64  \n",
            " 7   Arrival_min                                10682 non-null  int64  \n",
            " 8   Duration_hour                              10682 non-null  int64  \n",
            " 9   Duration_min                               10682 non-null  int64  \n",
            " 10  Airline_Air India                          10682 non-null  uint8  \n",
            " 11  Airline_GoAir                              10682 non-null  uint8  \n",
            " 12  Airline_IndiGo                             10682 non-null  uint8  \n",
            " 13  Airline_Jet Airways                        10682 non-null  uint8  \n",
            " 14  Airline_Jet Airways Business               10682 non-null  uint8  \n",
            " 15  Airline_Multiple carriers                  10682 non-null  uint8  \n",
            " 16  Airline_Multiple carriers Premium economy  10682 non-null  uint8  \n",
            " 17  Airline_SpiceJet                           10682 non-null  uint8  \n",
            " 18  Airline_Trujet                             10682 non-null  uint8  \n",
            " 19  Airline_Vistara                            10682 non-null  uint8  \n",
            " 20  Airline_Vistara Premium economy            10682 non-null  uint8  \n",
            " 21  Source_Chennai                             10682 non-null  uint8  \n",
            " 22  Source_Delhi                               10682 non-null  uint8  \n",
            " 23  Source_Kolkata                             10682 non-null  uint8  \n",
            " 24  Source_Mumbai                              10682 non-null  uint8  \n",
            " 25  Destination_Cochin                         10682 non-null  uint8  \n",
            " 26  Destination_Delhi                          10682 non-null  uint8  \n",
            " 27  Destination_Hyderabad                      10682 non-null  uint8  \n",
            " 28  Destination_Kolkata                        10682 non-null  uint8  \n",
            " 29  Destination_New Delhi                      10682 non-null  uint8  \n",
            "dtypes: float64(1), int64(9), uint8(20)\n",
            "memory usage: 1.4 MB\n",
            "None\n",
            "--------------------------------------------------------------------------------\n",
            "Shape of train data :  (10682, 30)\n"
          ]
        }
      ],
      "source": [
        "# Look at full training data\n",
        "print(train_data_full.info())\n",
        "print('-' * 80)\n",
        "print(\"Shape of train data : \",train_data_full.shape)"
      ],
      "id": "702a14ca"
    },
    {
      "cell_type": "markdown",
      "metadata": {
        "id": "f3b0a3c0"
      },
      "source": [
        "### 2) Testing Data Preprocessing\n",
        "\n",
        "To solve kaggle competitions, we had to merge our training and testing set \n",
        "then comeback and split them again later.\n",
        "\n",
        "But in a real_world scenario, what do you think will happen if we combine train and test data\n",
        "then do all the preprocessing steps on the combined dataset?\n",
        "\n",
        "The reason we first do the training data preprocessing, then testing data preprocessing seperately\n",
        "is because of --> **Data Leakage** \n",
        "\n",
        "We don't want to use some of our testingdata in training , because our model will be knowing some of the information about the test data.\n",
        "\n",
        "**We will do the same preprocessing we did earlier on test data**"
      ],
      "id": "f3b0a3c0"
    },
    {
      "cell_type": "code",
      "execution_count": 42,
      "metadata": {
        "colab": {
          "base_uri": "https://localhost:8080/"
        },
        "id": "0a3bcd1a",
        "outputId": "b3d234ff-3573-49f3-86d1-b3b3c65565f3"
      },
      "outputs": [
        {
          "output_type": "stream",
          "name": "stdout",
          "text": [
            "Test data Info\n",
            "---------------------------------------------------------------------------\n",
            "<class 'pandas.core.frame.DataFrame'>\n",
            "RangeIndex: 2671 entries, 0 to 2670\n",
            "Data columns (total 10 columns):\n",
            " #   Column           Non-Null Count  Dtype \n",
            "---  ------           --------------  ----- \n",
            " 0   Airline          2671 non-null   object\n",
            " 1   Date_of_Journey  2671 non-null   object\n",
            " 2   Source           2671 non-null   object\n",
            " 3   Destination      2671 non-null   object\n",
            " 4   Route            2671 non-null   object\n",
            " 5   Dep_Time         2671 non-null   object\n",
            " 6   Arrival_Time     2671 non-null   object\n",
            " 7   Duration         2671 non-null   object\n",
            " 8   Total_Stops      2671 non-null   object\n",
            " 9   Additional_Info  2671 non-null   object\n",
            "dtypes: object(10)\n",
            "memory usage: 208.8+ KB\n",
            "None\n",
            "\n",
            "\n",
            "Null values :\n",
            "---------------------------------------------------------------------------\n",
            "Airline            0\n",
            "Date_of_Journey    0\n",
            "Source             0\n",
            "Destination        0\n",
            "Route              0\n",
            "Dep_Time           0\n",
            "Arrival_Time       0\n",
            "Duration           0\n",
            "Total_Stops        0\n",
            "Additional_Info    0\n",
            "dtype: int64\n",
            "Airline\n",
            "---------------------------------------------------------------------------\n",
            "Jet Airways                          897\n",
            "IndiGo                               511\n",
            "Air India                            440\n",
            "Multiple carriers                    347\n",
            "SpiceJet                             208\n",
            "Vistara                              129\n",
            "Air Asia                              86\n",
            "GoAir                                 46\n",
            "Multiple carriers Premium economy      3\n",
            "Vistara Premium economy                2\n",
            "Jet Airways Business                   2\n",
            "Name: Airline, dtype: int64\n",
            "\n",
            "Source\n",
            "---------------------------------------------------------------------------\n",
            "Delhi       1145\n",
            "Kolkata      710\n",
            "Banglore     555\n",
            "Mumbai       186\n",
            "Chennai       75\n",
            "Name: Source, dtype: int64\n",
            "\n",
            "Destination\n",
            "---------------------------------------------------------------------------\n",
            "Cochin       1145\n",
            "Banglore      710\n",
            "Delhi         317\n",
            "New Delhi     238\n",
            "Hyderabad     186\n",
            "Kolkata        75\n",
            "Name: Destination, dtype: int64\n",
            "\n",
            "\n",
            "Shape of test data :  (2671, 28)\n"
          ]
        }
      ],
      "source": [
        "# Preprocessing\n",
        "\n",
        "print(\"Test data Info\")\n",
        "print(\"-\"*75)\n",
        "print(test_data.info())\n",
        "\n",
        "print()\n",
        "print()\n",
        "\n",
        "print(\"Null values :\")\n",
        "print(\"-\"*75)\n",
        "test_data.dropna(inplace = True)\n",
        "print(test_data.isnull().sum())\n",
        "\n",
        "# EDA\n",
        "\n",
        "# Date_of_Journey\n",
        "test_data[\"Journey_day\"] = pd.to_datetime(test_data.Date_of_Journey, format=\"%d/%m/%Y\").dt.day\n",
        "test_data[\"Journey_month\"] = pd.to_datetime(test_data[\"Date_of_Journey\"], format = \"%d/%m/%Y\").dt.month\n",
        "test_data.drop([\"Date_of_Journey\"], axis = 1, inplace = True)\n",
        "\n",
        "# Dep_Time\n",
        "test_data[\"Dep_hour\"] = pd.to_datetime(test_data[\"Dep_Time\"]).dt.hour\n",
        "test_data[\"Dep_min\"] = pd.to_datetime(test_data[\"Dep_Time\"]).dt.minute\n",
        "test_data.drop([\"Dep_Time\"], axis = 1, inplace = True)\n",
        "\n",
        "# Arrival_Time\n",
        "test_data[\"Arrival_hour\"] = pd.to_datetime(test_data.Arrival_Time).dt.hour\n",
        "test_data[\"Arrival_min\"] = pd.to_datetime(test_data.Arrival_Time).dt.minute\n",
        "test_data.drop([\"Arrival_Time\"], axis = 1, inplace = True)\n",
        "\n",
        "# Duration\n",
        "duration = list(test_data[\"Duration\"])\n",
        "\n",
        "for i in range(len(duration)):\n",
        "    if len(duration[i].split()) != 2:    # Check if duration contains only hour or mins\n",
        "        if \"h\" in duration[i]:\n",
        "            duration[i] = duration[i].strip() + \" 0m\"   # Adds 0 minute\n",
        "        else:\n",
        "            duration[i] = \"0h \" + duration[i]           # Adds 0 hour\n",
        "\n",
        "duration_hours = []\n",
        "duration_mins = []\n",
        "for i in range(len(duration)):\n",
        "    duration_hours.append(int(duration[i].split(sep = \"h\")[0]))    # Extract hours from duration\n",
        "    duration_mins.append(int(duration[i].split(sep = \"m\")[0].split()[-1]))   # Extracts only minutes from duration\n",
        "\n",
        "# Adding Duration column to test set\n",
        "test_data[\"Duration_hour\"] = duration_hours\n",
        "test_data[\"Duration_min\"] = duration_mins\n",
        "test_data.drop([\"Duration\"], axis = 1, inplace = True)\n",
        "\n",
        "\n",
        "# Categorical data\n",
        "\n",
        "print(\"Airline\")\n",
        "print(\"-\"*75)\n",
        "print(test_data[\"Airline\"].value_counts())\n",
        "Airline = pd.get_dummies(test_data[\"Airline\"], drop_first= True)\n",
        "\n",
        "print()\n",
        "\n",
        "print(\"Source\")\n",
        "print(\"-\"*75)\n",
        "print(test_data[\"Source\"].value_counts())\n",
        "Source = pd.get_dummies(test_data[\"Source\"], drop_first= True)\n",
        "\n",
        "print()\n",
        "\n",
        "print(\"Destination\")\n",
        "print(\"-\"*75)\n",
        "print(test_data[\"Destination\"].value_counts())\n",
        "Destination = pd.get_dummies(test_data[\"Destination\"], drop_first = True)\n",
        "\n",
        "# Additional_Info contains almost 80% no_info\n",
        "# Route and Total_Stops are related to each other\n",
        "test_data.drop([\"Route\", \"Additional_Info\"], axis = 1, inplace = True)\n",
        "\n",
        "# Replacing Total_Stops\n",
        "test_data['Total_Stops'] = test_data['Total_Stops'].map(total_stops_mapping)\n",
        "\n",
        "# Concatenate dataframe --> test_data + Airline + Source + Destination\n",
        "test_data_full = pd.concat([test_data, Airline, Source, Destination], axis = 1)\n",
        "\n",
        "test_data_full.drop([\"Airline\", \"Source\", \"Destination\"], axis = 1, inplace = True)\n",
        "\n",
        "print()\n",
        "print()\n",
        "\n",
        "print(\"Shape of test data : \", test_data_full.shape)"
      ],
      "id": "0a3bcd1a"
    },
    {
      "cell_type": "markdown",
      "metadata": {
        "id": "f4eab181"
      },
      "source": [
        "## Feature Scaling"
      ],
      "id": "f4eab181"
    },
    {
      "cell_type": "markdown",
      "metadata": {
        "id": "b5ae8607"
      },
      "source": [
        "I will be using tree based classifiers which are rule-based algorithms, so they don't require feature scaling.\n",
        "For more info on feature scaling,\n",
        "\n",
        "Refer to: https://www.kaggle.com/getting-started/159643"
      ],
      "id": "b5ae8607"
    },
    {
      "cell_type": "markdown",
      "metadata": {
        "id": "7ecb2751"
      },
      "source": [
        "## Feature Selection\n",
        "is the process of reducing the number of input variables when developing a predictive model.\n",
        "\n",
        "It is desirable to reduce the number of input variables to both reduce the computational cost of modeling and, in some cases, to improve the performance of the model.\n",
        "\n",
        "Following are some of the features selection methods:\n",
        "\n",
        "**1) Heatmaps**\n",
        "\n",
        "**2) feature_importances_**  with classifiers that have this method.\n",
        "\n",
        "**3) SelectKBest**"
      ],
      "id": "7ecb2751"
    },
    {
      "cell_type": "code",
      "execution_count": 43,
      "metadata": {
        "colab": {
          "base_uri": "https://localhost:8080/"
        },
        "id": "46d963d4",
        "outputId": "27ee1741-58fd-4bc0-e1c2-f3f2326d0b5b"
      },
      "outputs": [
        {
          "output_type": "execute_result",
          "data": {
            "text/plain": [
              "(10682, 30)"
            ]
          },
          "metadata": {},
          "execution_count": 43
        }
      ],
      "source": [
        "train_data_full.shape"
      ],
      "id": "46d963d4"
    },
    {
      "cell_type": "code",
      "execution_count": 44,
      "metadata": {
        "colab": {
          "base_uri": "https://localhost:8080/"
        },
        "id": "4a958199",
        "outputId": "a8337eec-f9c2-457a-faee-607791ae19b5"
      },
      "outputs": [
        {
          "output_type": "execute_result",
          "data": {
            "text/plain": [
              "Index(['Total_Stops', 'Price', 'Journey_day', 'Journey_month', 'Dep_hour',\n",
              "       'Dep_min', 'Arrival_hour', 'Arrival_min', 'Duration_hour',\n",
              "       'Duration_min', 'Airline_Air India', 'Airline_GoAir', 'Airline_IndiGo',\n",
              "       'Airline_Jet Airways', 'Airline_Jet Airways Business',\n",
              "       'Airline_Multiple carriers',\n",
              "       'Airline_Multiple carriers Premium economy', 'Airline_SpiceJet',\n",
              "       'Airline_Trujet', 'Airline_Vistara', 'Airline_Vistara Premium economy',\n",
              "       'Source_Chennai', 'Source_Delhi', 'Source_Kolkata', 'Source_Mumbai',\n",
              "       'Destination_Cochin', 'Destination_Delhi', 'Destination_Hyderabad',\n",
              "       'Destination_Kolkata', 'Destination_New Delhi'],\n",
              "      dtype='object')"
            ]
          },
          "metadata": {},
          "execution_count": 44
        }
      ],
      "source": [
        "train_data_full.columns"
      ],
      "id": "4a958199"
    },
    {
      "cell_type": "code",
      "execution_count": 45,
      "metadata": {
        "colab": {
          "base_uri": "https://localhost:8080/"
        },
        "id": "5a9bc4cc",
        "outputId": "f31222cc-e297-4b80-b7fe-27dcf44f08c8",
        "scrolled": true
      },
      "outputs": [
        {
          "output_type": "stream",
          "name": "stdout",
          "text": [
            "   Total_Stops  Journey_day  Journey_month  Dep_hour  Dep_min  Arrival_hour  \\\n",
            "0            0           24              3        22       20             1   \n",
            "1            2            1              5         5       50            13   \n",
            "2            2            9              6         9       25             4   \n",
            "3            1           12              5        18        5            23   \n",
            "4            1            1              3        16       50            21   \n",
            "\n",
            "   Arrival_min  Duration_hour  Duration_min  Airline_Air India  ...  \\\n",
            "0           10              2            50                  0  ...   \n",
            "1           15              7            25                  1  ...   \n",
            "2           25             19             0                  0  ...   \n",
            "3           30              5            25                  0  ...   \n",
            "4           35              4            45                  0  ...   \n",
            "\n",
            "   Airline_Vistara Premium economy  Source_Chennai  Source_Delhi  \\\n",
            "0                                0               0             0   \n",
            "1                                0               0             0   \n",
            "2                                0               0             1   \n",
            "3                                0               0             0   \n",
            "4                                0               0             0   \n",
            "\n",
            "   Source_Kolkata  Source_Mumbai  Destination_Cochin  Destination_Delhi  \\\n",
            "0               0              0                   0                  0   \n",
            "1               1              0                   0                  0   \n",
            "2               0              0                   1                  0   \n",
            "3               1              0                   0                  0   \n",
            "4               0              0                   0                  0   \n",
            "\n",
            "   Destination_Hyderabad  Destination_Kolkata  Destination_New Delhi  \n",
            "0                      0                    0                      1  \n",
            "1                      0                    0                      0  \n",
            "2                      0                    0                      0  \n",
            "3                      0                    0                      0  \n",
            "4                      0                    0                      1  \n",
            "\n",
            "[5 rows x 29 columns]\n"
          ]
        }
      ],
      "source": [
        "X = train_data_full.loc[:, ['Total_Stops', 'Price', 'Journey_day', 'Journey_month', 'Dep_hour',\n",
        "       'Dep_min', 'Arrival_hour', 'Arrival_min', 'Duration_hour',\n",
        "       'Duration_min', 'Airline_Air India', 'Airline_GoAir', 'Airline_IndiGo',\n",
        "       'Airline_Jet Airways', 'Airline_Jet Airways Business',\n",
        "       'Airline_Multiple carriers',\n",
        "       'Airline_Multiple carriers Premium economy', 'Airline_SpiceJet',\n",
        "       'Airline_Trujet', 'Airline_Vistara', 'Airline_Vistara Premium economy',\n",
        "       'Source_Chennai', 'Source_Delhi', 'Source_Kolkata', 'Source_Mumbai',\n",
        "       'Destination_Cochin', 'Destination_Delhi', 'Destination_Hyderabad',\n",
        "       'Destination_Kolkata', 'Destination_New Delhi']]\n",
        "y = X['Price']\n",
        "X.drop('Price', axis = 1, inplace = True)\n",
        "print(X.head())"
      ],
      "id": "5a9bc4cc"
    },
    {
      "cell_type": "code",
      "execution_count": 46,
      "metadata": {
        "colab": {
          "base_uri": "https://localhost:8080/",
          "height": 769
        },
        "id": "c4d12fcc",
        "outputId": "1d0f6045-26ea-4d65-f015-ea853bb501a8"
      },
      "outputs": [
        {
          "output_type": "display_data",
          "data": {
            "text/plain": [
              "<Figure size 864x864 with 2 Axes>"
            ],
            "image/png": "[encoded data removed]"
          },
          "metadata": {}
        }
      ],
      "source": [
        "# 1) Heatmap\n",
        "# Find correlations between independent features and dependent target\n",
        "plt.figure(figsize = (12, 12))\n",
        "# original\n",
        "sns.heatmap(train_data.corr(), annot = True, cmap = 'RdYlBu')\n",
        "plt.show()"
      ],
      "id": "c4d12fcc"
    },
    {
      "cell_type": "code",
      "execution_count": 47,
      "metadata": {
        "colab": {
          "base_uri": "https://localhost:8080/"
        },
        "id": "6fXz8izSH6LI",
        "outputId": "6bf68625-0d97-499e-9a23-e04e890c5d7b"
      },
      "outputs": [
        {
          "output_type": "execute_result",
          "data": {
            "text/plain": [
              "RandomForestRegressor(random_state=42)"
            ]
          },
          "metadata": {},
          "execution_count": 47
        }
      ],
      "source": [
        "# Using a baseline model to see what features are important\n",
        "rf_reg = RandomForestRegressor(random_state = 42)\n",
        "rf_reg.fit(X, y)"
      ],
      "id": "6fXz8izSH6LI"
    },
    {
      "cell_type": "code",
      "execution_count": 48,
      "metadata": {
        "colab": {
          "base_uri": "https://localhost:8080/"
        },
        "id": "a93f9d5a",
        "outputId": "fa74a480-967b-43a5-b2d7-d039b922d838"
      },
      "outputs": [
        {
          "output_type": "stream",
          "name": "stdout",
          "text": [
            "[3.52947032e-02 1.45749688e-01 6.14758350e-02 2.69800608e-02\n",
            " 2.45664351e-02 2.93386666e-02 2.19866213e-02 4.78174393e-01\n",
            " 1.93907900e-02 5.48995269e-03 1.28285373e-03 8.03497237e-03\n",
            " 6.98781550e-02 2.72851600e-04 2.10933300e-02 9.56234619e-04\n",
            " 3.05538139e-03 1.18427044e-05 3.71506465e-03 4.58150264e-05\n",
            " 6.72370293e-04 2.72714269e-03 3.85106447e-03 4.16045318e-03\n",
            " 2.84738163e-03 2.16445946e-04 3.90920024e-03 5.93416616e-04\n",
            " 2.42288776e-02]\n"
          ]
        }
      ],
      "source": [
        "# Show most important features according to regressor\n",
        "print(rf_reg.feature_importances_)\n",
        "# Not much to interpret from here, better visualize it. "
      ],
      "id": "a93f9d5a"
    },
    {
      "cell_type": "code",
      "execution_count": 49,
      "metadata": {
        "colab": {
          "base_uri": "https://localhost:8080/",
          "height": 428
        },
        "id": "558ab527",
        "outputId": "e3dffd46-645f-4da6-f962-4acdd55dbd2a"
      },
      "outputs": [
        {
          "output_type": "display_data",
          "data": {
            "text/plain": [
              "<Figure size 1008x504 with 1 Axes>"
            ],
            "image/png": "[encoded data removed]"
          },
          "metadata": {}
        }
      ],
      "source": [
        "# Visualize features importances\n",
        "plt.figure(figsize = (14, 7))\n",
        "features_importances = pd.Series(rf_reg.feature_importances_, index = X.columns)\n",
        "features_importances.nlargest(20).plot(kind = 'barh')\n",
        "plt.show()"
      ],
      "id": "558ab527"
    },
    {
      "cell_type": "markdown",
      "metadata": {
        "id": "137e17e4"
      },
      "source": [
        "## Baseline Model Building and Validation"
      ],
      "id": "137e17e4"
    },
    {
      "cell_type": "code",
      "source": [
        "# Split data to train and test\n",
        "X_train, X_test, y_train, y_test = train_test_split(X, y, test_size = 0.2, random_state = 42)"
      ],
      "metadata": {
        "id": "uYCQtgghpK7E"
      },
      "id": "uYCQtgghpK7E",
      "execution_count": 50,
      "outputs": []
    },
    {
      "cell_type": "code",
      "source": [
        "# Evaluation metrics\n",
        "def regression_scoring(truth, pred):\n",
        "    print(\"R2 Score:{:.4f}\".format(metrics.r2_score(truth, pred)))\n",
        "    print(\"Mean Absolute Error: {:.2f}\".format(metrics.mean_absolute_error(y_test, y_pred)))\n",
        "    print(\"Mean Squared Error:{:.2f}\".format(metrics.mean_squared_error(y_test, y_pred)))\n",
        "    print(\"Root Mean Squared Error: {:.2f}\".format(np.sqrt(metrics.mean_squared_error(y_test, y_pred))))"
      ],
      "metadata": {
        "id": "FvUOyqA7oBBu"
      },
      "id": "FvUOyqA7oBBu",
      "execution_count": 51,
      "outputs": []
    },
    {
      "cell_type": "markdown",
      "source": [
        "### Random Forest Regressor"
      ],
      "metadata": {
        "id": "9ZDMuFi_n3a7"
      },
      "id": "9ZDMuFi_n3a7"
    },
    {
      "cell_type": "code",
      "execution_count": 61,
      "metadata": {
        "id": "6c5479f9"
      },
      "outputs": [],
      "source": [
        "# Fit model on training data\n",
        "rf_reg = RandomForestRegressor(random_state = 42)\n",
        "rf_reg.fit(X_train, y_train)\n",
        "# Predict on testing set\n",
        "y_pred = rf_reg.predict(X_test)"
      ],
      "id": "6c5479f9"
    },
    {
      "cell_type": "code",
      "execution_count": 62,
      "metadata": {
        "colab": {
          "base_uri": "https://localhost:8080/"
        },
        "id": "5197df3b",
        "outputId": "8db66ecc-0faa-4660-a79d-b2a36cb02441"
      },
      "outputs": [
        {
          "output_type": "stream",
          "name": "stdout",
          "text": [
            "R2 Score on training set: 0.9508539467671966\n",
            "R2 Score on testing set: 0.8334025531938111\n"
          ]
        }
      ],
      "source": [
        "# R2 Score for our baseline model (benchmark).\n",
        "print(\"R2 Score on training set:\",rf_reg.score(X_train, y_train))\n",
        "print(\"R2 Score on testing set:\",rf_reg.score(X_test, y_test))"
      ],
      "id": "5197df3b"
    },
    {
      "cell_type": "markdown",
      "metadata": {
        "id": "6Q8OzLT5vnmV"
      },
      "source": [
        "A **Distplot** or distribution plot, **represents the variation in the data distribution**. Seaborn Distplot represents the overall distribution of continuous data variables."
      ],
      "id": "6Q8OzLT5vnmV"
    },
    {
      "cell_type": "code",
      "execution_count": 86,
      "metadata": {
        "colab": {
          "base_uri": "https://localhost:8080/",
          "height": 425
        },
        "id": "2f5f349c",
        "outputId": "4b647e3f-b606-40bb-e7ce-1a5be0c89509",
        "scrolled": true
      },
      "outputs": [
        {
          "output_type": "stream",
          "name": "stderr",
          "text": [
            "/usr/local/lib/python3.7/dist-packages/seaborn/distributions.py:2619: FutureWarning: `distplot` is a deprecated function and will be removed in a future version. Please adapt your code to use either `displot` (a figure-level function with similar flexibility) or `histplot` (an axes-level function for histograms).\n",
            "  warnings.warn(msg, FutureWarning)\n"
          ]
        },
        {
          "output_type": "display_data",
          "data": {
            "text/plain": [
              "<Figure size 720x360 with 2 Axes>"
            ],
            "image/png": "[encoded data removed]"
          },
          "metadata": {}
        }
      ],
      "source": [
        "# Plot the difference between Predictions and ground truth\n",
        "fig, ax = plt.subplots(1, 2, figsize = (10, 5))\n",
        "sns.distplot(y_test - y_pred, ax = ax[0]) # basically a hisogram\n",
        "sns.scatterplot(x = y_test, y= y_pred, alpha = 0.7, ax = ax[1])\n",
        "fig.subplots_adjust(hspace = 1)\n",
        "fig.suptitle('RandomForestRegressor Results')\n",
        "ax[1].set_xlabel('Ground Truth')\n",
        "ax[1].set_ylabel('Predictions')\n",
        "plt.show()"
      ],
      "id": "2f5f349c"
    },
    {
      "cell_type": "code",
      "execution_count": 59,
      "metadata": {
        "colab": {
          "base_uri": "https://localhost:8080/"
        },
        "id": "da9c8a5c",
        "outputId": "71b3f160-193a-4a7b-b39b-bdd93bff5655"
      },
      "outputs": [
        {
          "output_type": "stream",
          "name": "stdout",
          "text": [
            "R2 Score:0.8334\n",
            "Mean Absolute Error: 1153.82\n",
            "Mean Squared Error:3411877.58\n",
            "Root Mean Squared Error: 1847.13\n"
          ]
        }
      ],
      "source": [
        "regression_scoring(y_test, y_pred)\n",
        "# Say Mean Absolute Error = 10 implies that, on average the prediction distance from true value\n",
        "# is 10 (True values = 200 --> Prediction = 190 or True values = 200 --> Prediction = 210)."
      ],
      "id": "da9c8a5c"
    },
    {
      "cell_type": "markdown",
      "source": [
        "### Gradient Boosting Regressor"
      ],
      "metadata": {
        "id": "5SbPz2b3olvC"
      },
      "id": "5SbPz2b3olvC"
    },
    {
      "cell_type": "code",
      "source": [
        "gb_reg = GradientBoostingRegressor(random_state = 42)\n",
        "gb_reg.fit(X_train, y_train)\n",
        "# Predicting on testing set\n",
        "y_pred = rf_reg.predict(X_test)"
      ],
      "metadata": {
        "colab": {
          "base_uri": "https://localhost:8080/"
        },
        "id": "-fkUhrzTov9S",
        "outputId": "f3c3c5ca-b5e4-4b83-e838-2f634290b032"
      },
      "id": "-fkUhrzTov9S",
      "execution_count": 60,
      "outputs": [
        {
          "output_type": "execute_result",
          "data": {
            "text/plain": [
              "GradientBoostingRegressor(random_state=42)"
            ]
          },
          "metadata": {},
          "execution_count": 60
        }
      ]
    },
    {
      "cell_type": "code",
      "source": [
        "# R2 Score for our baseline model (benchmark).\n",
        "print(\"R2 Score on training set:\",gb_reg.score(X_train, y_train))\n",
        "print(\"R2 Score on testing set:\",gb_reg.score(X_test, y_test))"
      ],
      "metadata": {
        "colab": {
          "base_uri": "https://localhost:8080/"
        },
        "id": "zO3X0SE_rB1F",
        "outputId": "dd2f2c53-633c-49fb-c46f-b29497ecc2c1"
      },
      "id": "zO3X0SE_rB1F",
      "execution_count": 64,
      "outputs": [
        {
          "output_type": "stream",
          "name": "stdout",
          "text": [
            "R2 Score on training set: 0.7812161092733629\n",
            "R2 Score on testing set: 0.7761633929016983\n"
          ]
        }
      ]
    },
    {
      "cell_type": "code",
      "source": [
        "regression_scoring(y_test, y_pred)\n",
        "# Say Mean Absolute Error = 10 implies that, on average the prediction distance from true value\n",
        "# is 10 (True values = 200 --> Prediction = 190 or True values = 200 --> Prediction = 210)."
      ],
      "metadata": {
        "colab": {
          "base_uri": "https://localhost:8080/"
        },
        "id": "HMjYl4pNrB9Y",
        "outputId": "a7484c1e-1ddb-4910-a415-c55cfba9be97"
      },
      "id": "HMjYl4pNrB9Y",
      "execution_count": 65,
      "outputs": [
        {
          "output_type": "stream",
          "name": "stdout",
          "text": [
            "R2 Score:0.8334\n",
            "Mean Absolute Error: 1153.82\n",
            "Mean Squared Error:3411877.58\n",
            "Root Mean Squared Error: 1847.13\n"
          ]
        }
      ]
    },
    {
      "cell_type": "markdown",
      "metadata": {
        "id": "c08a69ae"
      },
      "source": [
        "## Hyperparameters Tuning \n",
        "\n",
        "* Choose any of the following methods for tuning:\n",
        "    1. RandomizedSearchCV --> Fast\n",
        "    2. GridSearchCV\n",
        "\n",
        "\n",
        "* Make your hyperparameters grid in form of dictionary\n",
        "\n",
        "\n",
        "* Fit the model\n",
        "\n",
        "\n",
        "* Check the best parameters and score"
      ],
      "id": "c08a69ae"
    },
    {
      "cell_type": "markdown",
      "source": [
        "### RandomForestRegressor Tuning"
      ],
      "metadata": {
        "id": "l7UiD0_soJNJ"
      },
      "id": "l7UiD0_soJNJ"
    },
    {
      "cell_type": "code",
      "execution_count": 72,
      "metadata": {
        "id": "46a26cce"
      },
      "outputs": [],
      "source": [
        "# I will be using randomized Search CV.\n",
        "# Parameters Grid\n",
        "\n",
        "# number of trees in random forest\n",
        "n_estimators = [100, 130, 160, 200, 230]\n",
        "# number of features to consider at each split\n",
        "max_features = ['auto', 'sqrt']\n",
        "# max. number of levels in the tree\n",
        "max_depth = [5, 10, 15, 20]\n",
        "# minimum number of samples required to split a node\n",
        "min_samples_split = [2, 5, 10, 15]\n",
        "# minimum number of samples required at each leaf node\n",
        "min_samples_leaf = [1, 2, 5, 10]\n",
        "# Create the random grid\n",
        "random_grid_1 = {'n_estimators': n_estimators,\n",
        "              'max_features': max_features,\n",
        "              'max_depth': max_depth,\n",
        "              'min_samples_split': min_samples_split,\n",
        "              'min_samples_leaf': min_samples_leaf}"
      ],
      "id": "46a26cce"
    },
    {
      "cell_type": "code",
      "execution_count": 83,
      "metadata": {
        "id": "f647c0c2",
        "colab": {
          "base_uri": "https://localhost:8080/"
        },
        "outputId": "5481da1e-fc31-4cdf-ffa5-f74ab429dfbd"
      },
      "outputs": [
        {
          "output_type": "stream",
          "name": "stdout",
          "text": [
            "Fitting 5 folds for each of 10 candidates, totalling 50 fits\n"
          ]
        },
        {
          "output_type": "execute_result",
          "data": {
            "text/plain": [
              "RandomizedSearchCV(cv=5, estimator=RandomForestRegressor(random_state=42),\n",
              "                   n_jobs=-1,\n",
              "                   param_distributions={'max_depth': [5, 10, 15, 20],\n",
              "                                        'max_features': ['auto', 'sqrt'],\n",
              "                                        'min_samples_leaf': [1, 2, 5, 10],\n",
              "                                        'min_samples_split': [2, 5, 10, 15],\n",
              "                                        'n_estimators': [100, 130, 160, 200,\n",
              "                                                         230]},\n",
              "                   random_state=42, verbose=2)"
            ]
          },
          "metadata": {},
          "execution_count": 83
        }
      ],
      "source": [
        "# Random Search of parameters  \n",
        "rf_random = RandomizedSearchCV(estimator = rf_reg, param_distributions = random_grid_1, n_iter = 10,\n",
        "                                cv = 5, verbose = 2, random_state = 42, n_jobs = -1)\n",
        "# Fit the model\n",
        "rf_random.fit(X_train, y_train)"
      ],
      "id": "f647c0c2"
    },
    {
      "cell_type": "code",
      "execution_count": 74,
      "metadata": {
        "id": "GStOGGvid-cZ",
        "colab": {
          "base_uri": "https://localhost:8080/"
        },
        "outputId": "56101dea-9bbf-4454-e3ca-0b088e5d5b33"
      },
      "outputs": [
        {
          "output_type": "stream",
          "name": "stdout",
          "text": [
            "{'n_estimators': 230, 'min_samples_split': 10, 'min_samples_leaf': 1, 'max_features': 'auto', 'max_depth': 10}\n"
          ]
        }
      ],
      "source": [
        "# Extract best parameters\n",
        "best_params_1 = rf_random.best_params_\n",
        "print(best_params_1)"
      ],
      "id": "GStOGGvid-cZ"
    },
    {
      "cell_type": "code",
      "execution_count": 82,
      "metadata": {
        "id": "skKhUrl0fJDB",
        "colab": {
          "base_uri": "https://localhost:8080/",
          "height": 362
        },
        "outputId": "71f7241f-2dd0-4c97-b82f-2e86dd1e4528"
      },
      "outputs": [
        {
          "output_type": "error",
          "ename": "NotFittedError",
          "evalue": "ignored",
          "traceback": [
            "\u001b[0;31m---------------------------------------------------------------------------\u001b[0m",
            "\u001b[0;31mNotFittedError\u001b[0m                            Traceback (most recent call last)",
            "\u001b[0;32m<ipython-input-82-daec50553fb8>\u001b[0m in \u001b[0;36m<module>\u001b[0;34m()\u001b[0m\n\u001b[1;32m      1\u001b[0m \u001b[0;31m# Scoring Our Final Results for Random Forest\u001b[0m\u001b[0;34m\u001b[0m\u001b[0;34m\u001b[0m\u001b[0;34m\u001b[0m\u001b[0m\n\u001b[0;32m----> 2\u001b[0;31m \u001b[0mpredictions_1\u001b[0m \u001b[0;34m=\u001b[0m \u001b[0mrf_random\u001b[0m\u001b[0;34m.\u001b[0m\u001b[0mpredict\u001b[0m\u001b[0;34m(\u001b[0m\u001b[0mX_test\u001b[0m\u001b[0;34m)\u001b[0m\u001b[0;34m\u001b[0m\u001b[0;34m\u001b[0m\u001b[0m\n\u001b[0m\u001b[1;32m      3\u001b[0m \u001b[0mregression_scoring\u001b[0m\u001b[0;34m(\u001b[0m\u001b[0my_test\u001b[0m\u001b[0;34m,\u001b[0m \u001b[0mpredictions\u001b[0m\u001b[0;34m)\u001b[0m\u001b[0;34m\u001b[0m\u001b[0;34m\u001b[0m\u001b[0m\n\u001b[1;32m      4\u001b[0m \u001b[0;31m# So R2 Score improved by 1.5%.\u001b[0m\u001b[0;34m\u001b[0m\u001b[0;34m\u001b[0m\u001b[0;34m\u001b[0m\u001b[0m\n",
            "\u001b[0;32m/usr/local/lib/python3.7/dist-packages/sklearn/utils/metaestimators.py\u001b[0m in \u001b[0;36m<lambda>\u001b[0;34m(*args, **kwargs)\u001b[0m\n\u001b[1;32m    111\u001b[0m \u001b[0;34m\u001b[0m\u001b[0m\n\u001b[1;32m    112\u001b[0m             \u001b[0;31m# lambda, but not partial, allows help() to work with update_wrapper\u001b[0m\u001b[0;34m\u001b[0m\u001b[0;34m\u001b[0m\u001b[0;34m\u001b[0m\u001b[0m\n\u001b[0;32m--> 113\u001b[0;31m             \u001b[0mout\u001b[0m \u001b[0;34m=\u001b[0m \u001b[0;32mlambda\u001b[0m \u001b[0;34m*\u001b[0m\u001b[0margs\u001b[0m\u001b[0;34m,\u001b[0m \u001b[0;34m**\u001b[0m\u001b[0mkwargs\u001b[0m\u001b[0;34m:\u001b[0m \u001b[0mself\u001b[0m\u001b[0;34m.\u001b[0m\u001b[0mfn\u001b[0m\u001b[0;34m(\u001b[0m\u001b[0mobj\u001b[0m\u001b[0;34m,\u001b[0m \u001b[0;34m*\u001b[0m\u001b[0margs\u001b[0m\u001b[0;34m,\u001b[0m \u001b[0;34m**\u001b[0m\u001b[0mkwargs\u001b[0m\u001b[0;34m)\u001b[0m  \u001b[0;31m# noqa\u001b[0m\u001b[0;34m\u001b[0m\u001b[0;34m\u001b[0m\u001b[0m\n\u001b[0m\u001b[1;32m    114\u001b[0m         \u001b[0;32melse\u001b[0m\u001b[0;34m:\u001b[0m\u001b[0;34m\u001b[0m\u001b[0;34m\u001b[0m\u001b[0m\n\u001b[1;32m    115\u001b[0m \u001b[0;34m\u001b[0m\u001b[0m\n",
            "\u001b[0;32m/usr/local/lib/python3.7/dist-packages/sklearn/model_selection/_search.py\u001b[0m in \u001b[0;36mpredict\u001b[0;34m(self, X)\u001b[0m\n\u001b[1;32m    518\u001b[0m             \u001b[0mthe\u001b[0m \u001b[0mbest\u001b[0m \u001b[0mfound\u001b[0m \u001b[0mparameters\u001b[0m\u001b[0;34m.\u001b[0m\u001b[0;34m\u001b[0m\u001b[0;34m\u001b[0m\u001b[0m\n\u001b[1;32m    519\u001b[0m         \"\"\"\n\u001b[0;32m--> 520\u001b[0;31m         \u001b[0mcheck_is_fitted\u001b[0m\u001b[0;34m(\u001b[0m\u001b[0mself\u001b[0m\u001b[0;34m)\u001b[0m\u001b[0;34m\u001b[0m\u001b[0;34m\u001b[0m\u001b[0m\n\u001b[0m\u001b[1;32m    521\u001b[0m         \u001b[0;32mreturn\u001b[0m \u001b[0mself\u001b[0m\u001b[0;34m.\u001b[0m\u001b[0mbest_estimator_\u001b[0m\u001b[0;34m.\u001b[0m\u001b[0mpredict\u001b[0m\u001b[0;34m(\u001b[0m\u001b[0mX\u001b[0m\u001b[0;34m)\u001b[0m\u001b[0;34m\u001b[0m\u001b[0;34m\u001b[0m\u001b[0m\n\u001b[1;32m    522\u001b[0m \u001b[0;34m\u001b[0m\u001b[0m\n",
            "\u001b[0;32m/usr/local/lib/python3.7/dist-packages/sklearn/utils/validation.py\u001b[0m in \u001b[0;36mcheck_is_fitted\u001b[0;34m(estimator, attributes, msg, all_or_any)\u001b[0m\n\u001b[1;32m   1220\u001b[0m \u001b[0;34m\u001b[0m\u001b[0m\n\u001b[1;32m   1221\u001b[0m     \u001b[0;32mif\u001b[0m \u001b[0;32mnot\u001b[0m \u001b[0mfitted\u001b[0m\u001b[0;34m:\u001b[0m\u001b[0;34m\u001b[0m\u001b[0;34m\u001b[0m\u001b[0m\n\u001b[0;32m-> 1222\u001b[0;31m         \u001b[0;32mraise\u001b[0m \u001b[0mNotFittedError\u001b[0m\u001b[0;34m(\u001b[0m\u001b[0mmsg\u001b[0m \u001b[0;34m%\u001b[0m \u001b[0;34m{\u001b[0m\u001b[0;34m\"name\"\u001b[0m\u001b[0;34m:\u001b[0m \u001b[0mtype\u001b[0m\u001b[0;34m(\u001b[0m\u001b[0mestimator\u001b[0m\u001b[0;34m)\u001b[0m\u001b[0;34m.\u001b[0m\u001b[0m__name__\u001b[0m\u001b[0;34m}\u001b[0m\u001b[0;34m)\u001b[0m\u001b[0;34m\u001b[0m\u001b[0;34m\u001b[0m\u001b[0m\n\u001b[0m\u001b[1;32m   1223\u001b[0m \u001b[0;34m\u001b[0m\u001b[0m\n\u001b[1;32m   1224\u001b[0m \u001b[0;34m\u001b[0m\u001b[0m\n",
            "\u001b[0;31mNotFittedError\u001b[0m: This RandomizedSearchCV instance is not fitted yet. Call 'fit' with appropriate arguments before using this estimator."
          ]
        }
      ],
      "source": [
        "# Scoring Our Final Results for Random Forest\n",
        "predictions_1 = rf_random.predict(X_test)\n",
        "regression_scoring(y_test, predictions_1)\n",
        "# So R2 Score improved by 1.5%."
      ],
      "id": "skKhUrl0fJDB"
    },
    {
      "cell_type": "markdown",
      "source": [
        "### GradientBoostingRegressor Tuning"
      ],
      "metadata": {
        "id": "3PnjHk_areva"
      },
      "id": "3PnjHk_areva"
    },
    {
      "cell_type": "code",
      "source": [
        "# I will be using randomizedSearchCV here also\n",
        "# Parameters Grid\n",
        "\n",
        "# number of trees in random forest\n",
        "n_estimators = [100, 150, 180, 200, 220]\n",
        "# number of features to consider at each split\n",
        "n_features = train_data_full.shape[1]\n",
        "max_features = ['auto', 'sqrt', n_features/3]\n",
        "# max. number of levels in the tree\n",
        "max_depth = [5, 10, 15, 20, 25]\n",
        "# minimum number of samples required to split a node\n",
        "min_samples_split = [2, 5, 10, 15]\n",
        "# minimum number of samples required at each leaf node\n",
        "min_samples_leaf = [1, 2, 5, 10, 15]\n",
        "# Create the random grid\n",
        "random_grid_2 = {'n_estimators': n_estimators,\n",
        "              'max_features': max_features,\n",
        "              'max_depth': max_depth,\n",
        "              'min_samples_split': min_samples_split,\n",
        "              'min_samples_leaf': min_samples_leaf}"
      ],
      "metadata": {
        "id": "DWI4xEQTrsJg"
      },
      "id": "DWI4xEQTrsJg",
      "execution_count": 76,
      "outputs": []
    },
    {
      "cell_type": "code",
      "source": [
        "# Random Search of parameters  \n",
        "gb_random = RandomizedSearchCV(estimator = gb_reg, param_distributions = random_grid_2, n_iter = 10,\n",
        "                                cv = 5, verbose = 2, random_state = 42, n_jobs = -1)\n",
        "# Fit the model\n",
        "gb_random.fit(X_train, y_train)"
      ],
      "metadata": {
        "colab": {
          "base_uri": "https://localhost:8080/"
        },
        "id": "NTZakv0ysl1p",
        "outputId": "d5dfeaf1-7ad9-4e3b-8609-a1c7955db1b7"
      },
      "id": "NTZakv0ysl1p",
      "execution_count": 79,
      "outputs": [
        {
          "output_type": "stream",
          "name": "stdout",
          "text": [
            "Fitting 5 folds for each of 10 candidates, totalling 50 fits\n"
          ]
        },
        {
          "output_type": "stream",
          "name": "stderr",
          "text": [
            "/usr/local/lib/python3.7/dist-packages/sklearn/model_selection/_validation.py:372: FitFailedWarning: \n",
            "20 fits failed out of a total of 50.\n",
            "The score on these train-test partitions for these parameters will be set to nan.\n",
            "If these failures are not expected, you can try to debug them by setting error_score='raise'.\n",
            "\n",
            "Below are more details about the failures:\n",
            "--------------------------------------------------------------------------------\n",
            "20 fits failed with the following error:\n",
            "Traceback (most recent call last):\n",
            "  File \"/usr/local/lib/python3.7/dist-packages/sklearn/model_selection/_validation.py\", line 680, in _fit_and_score\n",
            "    estimator.fit(X_train, y_train, **fit_params)\n",
            "  File \"/usr/local/lib/python3.7/dist-packages/sklearn/ensemble/_gb.py\", line 525, in fit\n",
            "    self._check_params()\n",
            "  File \"/usr/local/lib/python3.7/dist-packages/sklearn/ensemble/_gb.py\", line 357, in _check_params\n",
            "    raise ValueError(\"max_features must be in (0, n_features]\")\n",
            "ValueError: max_features must be in (0, n_features]\n",
            "\n",
            "  warnings.warn(some_fits_failed_message, FitFailedWarning)\n",
            "/usr/local/lib/python3.7/dist-packages/sklearn/model_selection/_search.py:972: UserWarning: One or more of the test scores are non-finite: [       nan        nan        nan 0.79309426        nan 0.82780855\n",
            " 0.78627819 0.81673678 0.83099328 0.7655911 ]\n",
            "  category=UserWarning,\n"
          ]
        },
        {
          "output_type": "execute_result",
          "data": {
            "text/plain": [
              "RandomizedSearchCV(cv=5, estimator=GradientBoostingRegressor(random_state=42),\n",
              "                   n_jobs=-1,\n",
              "                   param_distributions={'max_depth': [5, 10, 15, 20, 25],\n",
              "                                        'max_features': ['auto', 'sqrt', 10.0],\n",
              "                                        'min_samples_leaf': [1, 2, 5, 10, 15],\n",
              "                                        'min_samples_split': [2, 5, 10, 15],\n",
              "                                        'n_estimators': [100, 150, 180, 200,\n",
              "                                                         220]},\n",
              "                   random_state=42, verbose=2)"
            ]
          },
          "metadata": {},
          "execution_count": 79
        }
      ]
    },
    {
      "cell_type": "code",
      "source": [
        "# Extract best parameters\n",
        "best_params_2 = gb_random.best_params_\n",
        "print(best_params_2)"
      ],
      "metadata": {
        "colab": {
          "base_uri": "https://localhost:8080/"
        },
        "id": "JMMPc0tBsl7z",
        "outputId": "f7b20157-21bb-4c7e-990c-491a56c8dff7"
      },
      "id": "JMMPc0tBsl7z",
      "execution_count": 80,
      "outputs": [
        {
          "output_type": "stream",
          "name": "stdout",
          "text": [
            "{'n_estimators': 150, 'min_samples_split': 5, 'min_samples_leaf': 10, 'max_features': 'sqrt', 'max_depth': 10}\n"
          ]
        }
      ]
    },
    {
      "cell_type": "code",
      "source": [
        "# Scoring Our Final Results for Gradinet Boosting\n",
        "predictions_2 = gb_random.predict(X_test)\n",
        "regression_scoring(y_test, predictions_2)\n",
        "# R2 Score is higher by 1% for GradientBoosting regressor than RandomForestRegressor"
      ],
      "metadata": {
        "colab": {
          "base_uri": "https://localhost:8080/"
        },
        "id": "MBroszxSto-O",
        "outputId": "f88801a3-758e-4e77-93c5-b820a8ad99eb"
      },
      "id": "MBroszxSto-O",
      "execution_count": 85,
      "outputs": [
        {
          "output_type": "stream",
          "name": "stdout",
          "text": [
            "R2 Score:0.8522\n",
            "Mean Absolute Error: 1153.82\n",
            "Mean Squared Error:3411877.58\n",
            "Root Mean Squared Error: 1847.13\n"
          ]
        }
      ]
    },
    {
      "cell_type": "markdown",
      "metadata": {
        "id": "U4C6AOnzOLbs"
      },
      "source": [
        "## Understanding Our results\n",
        "![RMSE1.jpg](data:image/jpeg;base64,/9j/4AAQSkZJRgABAQAAAQABAAD/2wBDAAgGBgcGBQgHBwcJCQgKDBQNDAsLDBkSEw8UHRofHh0aHBwgJC4nICIsIxwcKDcpLDAxNDQ0Hyc5PTgyPC4zNDL/2wBDAQkJCQwLDBgNDRgyIRwhMjIyMjIyMjIyMjIyMjIyMjIyMjIyMjIyMjIyMjIyMjIyMjIyMjIyMjIyMjIyMjIyMjL/wAARCACCAYUDASIAAhEBAxEB/8QAGwABAAIDAQEAAAAAAAAAAAAAAAUGAwQHAQL/xABJEAAABQIDAgoIAwQGCwAAAAAAAQIDBAURBhIhEzEUFhdBUVRWlJXSBxUiMmFxgZEjUqEzQpLRJCVTsbLBNDU2N0NVV3JzgsL/xAAWAQEBAQAAAAAAAAAAAAAAAAAAAQL/xAAjEQEBAQADAAEDBQEAAAAAAAAAAREhMUFhUYHBAiJCsdHw/9oADAMBAAIRAxEAPwDv4AAAAAAAAAAAAAAAAAAAAAAAAh5eJKZAeU1JddQpKzT7LC16kRGfukf5i3jBxyofWn+5veUBPgIDjlQ+tP8Ac3vKHHKh9af7m95QE+AgOOVD60/3N7yhxyofWn+5veUBPgIDjlQ+tP8Ac3vKHHKh9af7m95QE+AgOOVD60/3N7yhxyofWn+5veUBPgIDjlQ+tP8Ac3vKHHKh9af7m95QE+AgOOVD60/3N7yhxyofWn+5veUBPgIDjlQ+tP8Ac3vKHHKh9af7m95QE+AgOOVD60/3N7yhxyofWn+5veUBPgIDjlQ+tP8Ac3vKHHKh9af7m95QE+AgOOVD60/3N7yhxyofWn+5veUBPgIDjlQ+tP8Ac3vKHHKh9af7m95QE+AgOOVD60/3N7yhxyofWn+5veUBPgIDjlQ+tP8Ac3vKHHKh9af7m95QE+AgOOVD60/3N7yhxyofWn+5veUBPgIAsZULrL/dHvKJ8AAAAAAAAAAAAAAAAAAAAAAAAAAAAeD0AETR/wBvVF/mmK/RKSEsYiqIeZmU7+eU7+isv+QkzOxCeDSKs0xS5KE1GJmiW4QnbJuzfdnK/s/UbLL7cllLrDqHWlldK0KJSTL4GQ5RWSXFWqvxE501l56mu5NbktZkyo/kdy/9h1aM0TEZppPuoSRCzrVvDOAACAAAAAAAAAAAAAAAAAAAAAAAAAAAAAAAAAAAAAAAAAAAAAAAAAAAAAAAAAAAAAAAAAAAAAAA8MejG6f4K/kYl6EbQC/qs1fmfeV93FDnOJvSNiPDuM2aHPpdNYhS1mmPNfWs21JPQr2LQ9xGXxHSMP8A+ooa/wA7ZOfxa/5jRxhhKBjGhO0yamxmWZp4i9ptfMZB+rvVnPaMaiYtRGQ0xDw4lgjJxDaCWSSPeRkRFa99bjDMreMqTUadw6nUx2nSJCWHno7iszWY7Edj3lfT6ir+j3FVQwxXDwDitWV9o8tPlKvZ5N9E359LW+w684208nK4lKk3I9ektSMX5nSfFZAuNKqz0UulS5znux2lOfYtBr4fZUijx3X1ZpEhBOuq6VK1t9L2ASo9FPn4wmRcZN4bjUhMiQ6wb6XOE5Ekgjtr7JmRjZoWMGqpWp1Elw3YFUhJJxxlaiUlSD3KSotDIILOA+CWn8yfuPcyfzF9wH0A15LuyjOKSpKVEk1Fn3fUVChYwqdSwU7XVUnhT6XnG2o8RWU3UpXlJRGo+e1xNXF3AYWnNoyhxSdmoyJRpVa6bluMfMiWxEjOSn3UoZaSalrM9CIt5io2AGtDlsT4TMxhWdl5tLiFdKTK5H9jGclJV7qgH0Ar+Ma47hzDE+rMbBTsVs3EtvXsq3NprqdhI0iU/Mo8SVJbS0+60lbjab2SZlcyK4Qb4AAAA8FOjY+iysdcWW4btlIWpM25ZFqRbMki3na5FcT3BcgHyZpSWo06jU4dJgOTpj6Wo7Ze0oz/AELpMUbwDGh1K0JUlScqi013j6v+7fUB9APg1p/Mn7isYoxJModXoMOI1Gd9ZzCjrS5mzJTa5qK2mhFzgLSZjTmzm4bLbqm3Xc6iSlLKDWZmevNzaDcsKS9iHi7MqVMU0+/slocjJQ0pzKlzpJJGeVKiMFkWel1aLWIyn4ilWQ4ptxK0GlSFJOxkZHuMSArmD0Q0Udzgi33FLfW4+47HU0anFHmMyJREdtbF8hYwqAAAAAAAAAAAAAAAAAAAAAAAAAAADBLVkiPK/Kg/7hmEdVn0+pJrjSs2VtW7pLeQBQk5MP05B7yjN3/hIZ586LTYD0yW6lphlJqWpR2IiIfURvYw2G/yNpT9iHIcZYlxBKxSiO3hCoTqPBWaibsaUvukeij6UlzEF7J1tXCi0hWI601i2rRlNZCNNMiupsplB/vqI9y1dHMWgutxyUvSjjH/AKdzv4z/AJCPquOMe4gjIpkTB8mnpkrS25JVdRoSZ626NOcM8h810XH/APsJVv8AxFf5Ziv+gnoWXgLGX3dmm32GGoU9qfSH6e5+zdaNr5XKxDWo23VQ24z6lNyWW9g4pNrkaSsRlfTdYw+p5HPYEmqzvTJiOdSocacmCwzE/HlGySMxXOxkhdzundoMleoEqk0fFeLa26w/UJcLZNx2iPZsIT7qSM9VHm1vYt4t1BwbGw/Ups6NUJzjk103pKXVINLiz5zskjLfuKxCQxDQYmJKSqmzVOpjrWlStkrKZ5Tva/RoJZxI1L+5zSsUpeEMCUWZGelOVxexhMSFuGZtm7YjMiPTS+haaiah4YmNYhplYaYcpsanNOKkrddJb09SkGXt5TMrEetzMz+BC5VzD1OxBR1Uyc0pTF0qTkUaVIUncpJluMhjpWH26dm2s2dNVl2ZKlO5rJ6LFYj+ZlcW281HO2XG6z6O63jKuoTOdWh9yIy4d0R0JMySlJbiPQrnzjWqNN4H6PcB0JP+kyJjNnE6GRXNavuWgtjnoroS6fLp/CakmFIcNwo5ST2bZmrMeUv53EtNwdEnuUd1yXLS7SVZo7iVJIzO1rmVrHppuCf4W/lCPOLxR6SptDkuqKk0mM245GI7JkOOalm6SSRHp8RFekbD8GjYJqMWE0n+s50dLTFvZbM1JSZJLm0JR/UxcKjg2DOrfrhmVMhT1Nk067FdJO1SW4lEZGR2+Qy1bCVPrNIj059yUlMd1LzTyXTNxK0ncjzHe/1E8n/em8qfX0po1Xw9g+iQVMRJaVvykwsra3UIIiNBGZkRZrlc783xHxIjVDBNNxNihMdEFhcZKItMQvMlCyuW0UZeySjzFci6N5i3VLBkGqFAdekzEToN9hNadyulfeRnaxkfQZDYdwtBlUWXSpq5EtmWnK+t901KV8egj+REF6JenN8a4bhpwVR48n+mVisTmGHJrvtOma7qUZGe5JEVrFoRDrLcplM31cnNtUNE57h5ct7Fruv8BVS9GlMJdOdVUaq69TnCcjuOyM5psViKyiMrEXwG7Rnn5GNa+pa3diyTLLbajPLck5jURHprmItOgaPGZyZi7bL2dFpSm7nkUqorIzK+hmWx0OwzwZOJHZiEz6XT2I2udxictxRaaWI203+4nB6IisYzrb9Io+yp7S36pMVsIjSLZjUZanrzERGevQOc15xWH6rgl/1PUILMKWphx+QbZ7TaFqZmlSjuatTuOouYdadxM1XXJklTzTam22TNOzQSrXsVr3Oxa3GHFGE4eLIbMWbJlNMtOJdJLCiTdSTuRmZkZ6GMzjL8r8K9SsuNMX171l+LTKS+mIxCUd21Ky5jWpO5R6la+6wisdYcgRoVBoDTW1bn1knCbWV8jebOtCS5kkkiKwtacCQWqg5OjVCoxnpCSKVsXiSUgyK2ZRWsSrc6bDbq+EYFY9WrU7KYepyzVGeZdPOm5WMjM73uXSNTjDeaq1TpsNHpTwvTIEZthiHGekqbZLKRalluRc1zUIuViB2nYgx7idv8RNNjtwmE39nOSc1/ur9Beajg2DUarEqapM5iXHa2BuMPmk3Uc5K6d28rHqNeH6P6LCh1aCW3dhVVRqfYdWRpIz5yO17/ADMTxdikYsoTEfA9LU+pUmu1SVHZVPWozdI1ndWVW9KbEZWLTUWKpJ4f6X8Pw/8Ah0qA9JNPxWWQvl7pjaT6M6X/AFctVQqrrlPcJyOt2TnNFisRWMrWt8LiZRhiK3ixzEKZMnhbrBR1ozFszQVzIrWuWpmehh797/Sbx9kqmY2qcqIWbaoQTh+yeWxnbfuM/gK+1/vNkZf+WIz/AMZ2HtAkOyMWYlU6p3ZMuMtNpWZ5dEGZmRHprct3QNqjw1O1qo1lacvCMrLPTs08/wBTMzD2U+qwAACoAAAAAAAAAAAA5rS5+Iq3jzElJar7jECmbJLbiIzRqNakkoyMzTuLUvoJ6OkgKLgvElRrfr+DPebW5TJKo6JrCSInCte9juVy+w0PRxiutVmr1anVt9DimiS/FUTZJM2VGZEZ259LhPxq2Y6SA5birGVadx3RaBQH0MxHpKmJMjZktSjTY1km+hZSPf0n8BKO1+oT8ePYWaqfq9MSMh45Cm0G7JUrflIyykRc9iCc4Yv4CpvKrdJw5WH6lVsyo+ZyNJS0glZEpuWYrZbmem4Q2FzxJW8IU6qzcTusSZrW0SyiMySTM9UkV033Co6KAhYc2VTMLR5ddUrhLTCVS1NNmo81tbJSR316BG8o2Hf7Wd4dI8gCwVKXwCmyZmRS9i0pzKnU1WK+goeEJEx30aVBqoKzTW35CHf+5SzUX+IhcKPiGnV/bcBU+omrZtrGca39Gciv9BVKYjYPYvh9NVaV9Fpb/mYT1fHQE+4XyGozN2tRfipQnKylKjWThHqfMaS1L6jdIVOk0qeqpYndlxUt8MfSmOp2ykuNpRYjMkne1zPQ7GCTpbBDUuvN1Oq1GnpjPNOQTQS1O2LNmK5GREINjBjrTzbnBaEWRZKuiI6StOgzc0MZ6BHqLOMsQSpFMfYjS1NbJ1a0GlWVFj0JRmWvwBZmVbgIegCAAAAAAAAAAAAAAAAADwegAAAAAAAAAAAAAAAAADwB6AAAAAAAAAAAAAAAxOuIaaUtaiSREe87DhlHokjEuDcV12mzpzFTlTXnWODy3EE4lJ2IlJSZEojsZa9I7k+w1JZU080hxtW9K0koj+ZGMESmQaeSkxIMaOlfvbJpKL/O28TFlUWjVyjteiFVUpbUaM2qIpSmWrJs6ZWVf43MQE+HUaFjLDnqZhSnqjRuAG4XuoWmx5z+CU3+pl0jqfqCj5FN+qYOzUeY08HRYz6bW3jbbiRmdns2G07JJpbypIspHvIughb3pLkxyuFAhtemCl06M7mZo1MW4ajMjNTqzspRnzqPeYnKrGwljyinU5a2mHYxuJTKQ6SH2DQoy94tS3Xt8SFwbo9MYk8Kap0Rt/8AtEspJX3Irj5XQKO69t3aVBW7fNtFR0Gq/TewnmG865DU61U+QaWmpPuvyZDyokZ532XHmzXlQs76nci3i1M0KgYfgUupuViXkpTZOGw5PW82o8hosSDUaSO6tLELxJpVPnZeGQIz+QvY2rSVWLoK5aDAnDdCQtK00enpUncpMZBGX6Cy+ms0x2Z6qcdgMNOysl22nl5EmfQZkR2+wrnrHHnZuj+Iq8guI9BELQ5Fdf2vrmnRIdrbPg8k3c3Te6SsKwtHB8cVxj92ScF8k9NlZT/wjoA5/WVbD0s0pP7s2Hl+ralK/wDoT+UWblxZsRYf4wxGo3rWp0/I5n2lPkGytWlrGZby13Cucl6e2uMfFlfyF9HoqKDyYF21xh4ssOTBPbXGPi6v5C/AAoPJgntljDxZYcmCe2WMPFli/AAoPJgntljDxZYcmCe2WMPFli/AAoPJgntljDxZYcmCe2WMPFli/AAoPJgntljDxZYcmCe2WMPFli/AAoPJgntljDxZYcmCe2WMPFli/AAoPJintljDxZQcmKe2eMPFlC7StnwZ3a/s8p59TLS2upDkOCpsyg4phcLnyX6ViRtxUZLzqlpZcQo7JIzPS6f7hJ3i5xq0cmKe2WMPFlhyYJ7ZYw8WWNrBMNt2TWKnmdUlyc6yylby1pShB5DIiMzLU0mf1FzFS9qFyYJ7ZYw8WWHJgntljDxZYvwAKDyYJ7ZYw8WWHJgntljDxZYvwAKDyYJ7ZYw8WWHJgntljDxZYvwAKDyYJ7ZYw8WWHJgntljDxZYvwAKDyYJ7ZYw8WWHJgntljDxZYvwAKDyYJ7ZYw8WWHJgntljDxZYvwAKfR8Cep6qzO4z4lmbK/wCBLqCnWlXK2qT39IuAAAAAAAAAAAAAAAAAAAAAAAAAAAAADwU+vQOEekHDErL+xKRf6o0FxGJTLS3EOqQlTiL5VW1K++wTvRlAAAAAAAAAAAAAAAAAAAAAAAV/F89cDDE9TTT7r62FIaQ00pxRqMrFokjFXxRhxdR9GEL1W0r1hS2m5MP2DSraIIjMrHrrYytzjpAWExdVvA0J+Bg2mNyUqRJW1tX0qKxk4o8yrl8zMWTmABbduoAAAAAAAAAAAAAAAAAAAAAAAAAAAAAAAAAAAAAAAAAAAAAAAAAAAAAAAAAAAAAAAAAAAAAAAAAAAAAAAAAAAAAAAAAAAAAAAAAAAAAAAAAAAAAAAAAAAAAAAAAAAAAAAAAAAAAAAAAAAAAAAAAAAAAAAAAAAAAAAAAAAAAAAAAAAAAAAAAAAAAAAAAAAAAAAAAAAAD/2Q==)"
      ],
      "id": "U4C6AOnzOLbs"
    },
    {
      "cell_type": "markdown",
      "metadata": {
        "id": "M0QAGqf_PQ3g"
      },
      "source": [
        "RMSE is the average distance between actual values and predictions?\n",
        "\n",
        "\n",
        "Q : **So, what is considered a good RMSE?**\n",
        "\n",
        "A : **It depends**\n",
        "\n",
        "The lower the RMSE, the better a given model is able to fit the dataset.However,\n",
        "the range of the dataset you’re working with is important in determining whether or not a given RMSE value is **“low”** or not.\n",
        "\n",
        "Consider the two following scenarios:\n",
        "\n",
        "\n",
        "1.   Scenario 1: We would like to use a regression model predict the price of homes in a certain city. Suppose the model has an RMSE value of $500. Since the typical range of houses prices is between $70,000 and $300,000, this RMSE value is extremely low. This tells us that the model is able to predict house prices accurately.\n",
        "\n",
        "\n",
        "2.   Scenario 2: Now suppose we would like to use a regression model to predict how much someone will spend per month in a certain city. Suppose the model has an RMSE value of $500. If the typical range of monthly spending is $1,500 – $4,000, this RMSE value is quite high. This tells us that the model is not able to predict monthly spending very accurately.\n",
        "\n",
        "One way to measure if RMSE if 'low' or not is by normalizing it:\n",
        "\n",
        "Normalized RMSE = RMSE / (Max. value - Min. value)\n",
        "\n",
        "**This produces a value between 0 and 1, where values closer to 0 represent better fitting models.**\n",
        "\n"
      ],
      "id": "M0QAGqf_PQ3g"
    },
    {
      "cell_type": "code",
      "execution_count": null,
      "metadata": {
        "id": "_q3Gl-t9R0Kt",
        "colab": {
          "base_uri": "https://localhost:8080/"
        },
        "outputId": "a4ba545d-0c5c-4f7e-c831-a511691d7e1b"
      },
      "outputs": [
        {
          "output_type": "stream",
          "name": "stdout",
          "text": [
            "\n",
            "Min. ticket Price = 1759.0, Max. tickey Price = 36983.0\n",
            "normalized RMSE: 0.05931665909607086\n"
          ]
        }
      ],
      "source": [
        "# Min. and Max. Price in our data\n",
        "min_price = np.min(y)\n",
        "max_price = np.max(y)\n",
        "range = max_price - min_price\n",
        "# print values\n",
        "print()\n",
        "print(\"Min. ticket Price = {}, Max. tickey Price = {}\".format(min_price, max_price))\n",
        "normalized_RMSE = 1847.13 / range # 2089.37 is obtained by regression_scoring() function\n",
        "\n",
        "print(\"normalized RMSE:\", normalized_RMSE)"
      ],
      "id": "_q3Gl-t9R0Kt"
    },
    {
      "cell_type": "code",
      "execution_count": 89,
      "metadata": {
        "id": "Ln_hZOsbfJKs",
        "colab": {
          "base_uri": "https://localhost:8080/",
          "height": 609
        },
        "outputId": "fe0d7fae-7fe0-48d0-fe9d-ecb9c26fffff"
      },
      "outputs": [
        {
          "output_type": "stream",
          "name": "stderr",
          "text": [
            "/usr/local/lib/python3.7/dist-packages/seaborn/distributions.py:2619: FutureWarning: `distplot` is a deprecated function and will be removed in a future version. Please adapt your code to use either `displot` (a figure-level function with similar flexibility) or `histplot` (an axes-level function for histograms).\n",
            "  warnings.warn(msg, FutureWarning)\n"
          ]
        },
        {
          "output_type": "display_data",
          "data": {
            "text/plain": [
              "<Figure size 1152x576 with 2 Axes>"
            ],
            "image/png": "[encoded data removed]"
          },
          "metadata": {}
        }
      ],
      "source": [
        "# Plot the difference between Predictions and ground truth\n",
        "fig, ax = plt.subplots(1, 2, figsize = (16, 8))\n",
        "sns.distplot(y_test - predictions_2, ax = ax[0]) # basically a hisogram\n",
        "sns.scatterplot(x = y_test, y= predictions_2, alpha = 0.7, ax = ax[1])\n",
        "fig.subplots_adjust(hspace = 1)\n",
        "fig.suptitle('GradinetBoostingRegressor Results')\n",
        "ax[1].set_xlabel('Ground Truth')\n",
        "ax[1].set_ylabel('Predictions')\n",
        "plt.show()"
      ],
      "id": "Ln_hZOsbfJKs"
    },
    {
      "cell_type": "markdown",
      "metadata": {
        "id": "Qc8D0dMHhU4h"
      },
      "source": [
        "## Save the model\n"
      ],
      "id": "Qc8D0dMHhU4h"
    },
    {
      "cell_type": "code",
      "execution_count": 90,
      "metadata": {
        "id": "hfUsk7m6hSRQ",
        "colab": {
          "base_uri": "https://localhost:8080/"
        },
        "outputId": "c7233567-35ad-4364-ecb8-c06fb667b0b7"
      },
      "outputs": [
        {
          "output_type": "execute_result",
          "data": {
            "text/plain": [
              "['gradientboosting_reg_v5.pkl']"
            ]
          },
          "metadata": {},
          "execution_count": 90
        }
      ],
      "source": [
        "import joblib\n",
        "# open a file where you want to store the data\n",
        "file_name_1 = 'randomforest_reg_v5.pkl'\n",
        "file_name_2 = 'gradientboosting_reg_v5.pkl'\n",
        "joblib.dump(rf_reg, file_name_1)\n",
        "joblib.dump(gb_reg, file_name_2)"
      ],
      "id": "hfUsk7m6hSRQ"
    },
    {
      "cell_type": "markdown",
      "source": [
        "## Final Thoughts\n",
        "\n",
        "#### How to improve model performance\n",
        "1.   Outliers detection             --> Done\n",
        "2.   Trying a more powerful model   --> Done\n",
        "3.   Adding new features            --> next version of notebook   \n",
        "\n",
        "\n",
        "In the upcoming version of the notebook, I will try to introduce new features such as : \n",
        "\n",
        "\n",
        "    *   the day of the week the journey was made\n",
        "    *   if that day was holiday or week day\n",
        "    *   Inspect the Route feature a bit more in depth, maybe the sequence of\n",
        "        routes affects the flight price somehow."
      ],
      "metadata": {
        "id": "MBYJN1eVZwcq"
      },
      "id": "MBYJN1eVZwcq"
    }
  ],
  "metadata": {
    "accelerator": "GPU",
    "colab": {
      "collapsed_sections": [
        "Rd7qHWQuAUsV"
      ],
      "name": "flight_fare_prediction_v5.ipynb",
      "provenance": [],
      "toc_visible": true
    },
    "kernelspec": {
      "display_name": "Python 3 (ipykernel)",
      "language": "python",
      "name": "python3"
    },
    "language_info": {
      "codemirror_mode": {
        "name": "ipython",
        "version": 3
      },
      "file_extension": ".py",
      "mimetype": "text/x-python",
      "name": "python",
      "nbconvert_exporter": "python",
      "pygments_lexer": "ipython3",
      "version": "3.9.7"
    }
  },
  "nbformat": 4,
  "nbformat_minor": 5
}